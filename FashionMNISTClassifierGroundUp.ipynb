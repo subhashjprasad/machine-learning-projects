{
  "nbformat": 4,
  "nbformat_minor": 0,
  "metadata": {
    "colab": {
      "provenance": [],
      "gpuType": "T4",
      "authorship_tag": "ABX9TyMM/vSytgZu571jv1w7y3II",
      "include_colab_link": true
    },
    "kernelspec": {
      "name": "python3",
      "display_name": "Python 3"
    },
    "language_info": {
      "name": "python"
    },
    "accelerator": "GPU"
  },
  "cells": [
    {
      "cell_type": "markdown",
      "metadata": {
        "id": "view-in-github",
        "colab_type": "text"
      },
      "source": [
        "<a href=\"https://colab.research.google.com/github/subhashjprasad/machine-learning-projects/blob/main/FashionMNISTClassifierGroundUp.ipynb\" target=\"_parent\"><img src=\"https://colab.research.google.com/assets/colab-badge.svg\" alt=\"Open In Colab\"/></a>"
      ]
    },
    {
      "cell_type": "markdown",
      "source": [
        "Dataset and DataLoader"
      ],
      "metadata": {
        "id": "hicQf9lLsfoa"
      }
    },
    {
      "cell_type": "code",
      "execution_count": 1,
      "metadata": {
        "colab": {
          "base_uri": "https://localhost:8080/"
        },
        "id": "XDg-JXA5raoD",
        "outputId": "5f096380-66e5-41ee-a8b8-4ede65a3795b"
      },
      "outputs": [
        {
          "output_type": "stream",
          "name": "stdout",
          "text": [
            "Downloading http://fashion-mnist.s3-website.eu-central-1.amazonaws.com/train-images-idx3-ubyte.gz\n",
            "Downloading http://fashion-mnist.s3-website.eu-central-1.amazonaws.com/train-images-idx3-ubyte.gz to ./data/FashionMNIST/raw/train-images-idx3-ubyte.gz\n"
          ]
        },
        {
          "output_type": "stream",
          "name": "stderr",
          "text": [
            "100%|██████████| 26421880/26421880 [00:02<00:00, 12453988.92it/s]\n"
          ]
        },
        {
          "output_type": "stream",
          "name": "stdout",
          "text": [
            "Extracting ./data/FashionMNIST/raw/train-images-idx3-ubyte.gz to ./data/FashionMNIST/raw\n",
            "\n",
            "Downloading http://fashion-mnist.s3-website.eu-central-1.amazonaws.com/train-labels-idx1-ubyte.gz\n",
            "Downloading http://fashion-mnist.s3-website.eu-central-1.amazonaws.com/train-labels-idx1-ubyte.gz to ./data/FashionMNIST/raw/train-labels-idx1-ubyte.gz\n"
          ]
        },
        {
          "output_type": "stream",
          "name": "stderr",
          "text": [
            "100%|██████████| 29515/29515 [00:00<00:00, 198648.69it/s]\n"
          ]
        },
        {
          "output_type": "stream",
          "name": "stdout",
          "text": [
            "Extracting ./data/FashionMNIST/raw/train-labels-idx1-ubyte.gz to ./data/FashionMNIST/raw\n",
            "\n",
            "Downloading http://fashion-mnist.s3-website.eu-central-1.amazonaws.com/t10k-images-idx3-ubyte.gz\n",
            "Downloading http://fashion-mnist.s3-website.eu-central-1.amazonaws.com/t10k-images-idx3-ubyte.gz to ./data/FashionMNIST/raw/t10k-images-idx3-ubyte.gz\n"
          ]
        },
        {
          "output_type": "stream",
          "name": "stderr",
          "text": [
            "100%|██████████| 4422102/4422102 [00:01<00:00, 3764994.68it/s]\n"
          ]
        },
        {
          "output_type": "stream",
          "name": "stdout",
          "text": [
            "Extracting ./data/FashionMNIST/raw/t10k-images-idx3-ubyte.gz to ./data/FashionMNIST/raw\n",
            "\n",
            "Downloading http://fashion-mnist.s3-website.eu-central-1.amazonaws.com/t10k-labels-idx1-ubyte.gz\n",
            "Downloading http://fashion-mnist.s3-website.eu-central-1.amazonaws.com/t10k-labels-idx1-ubyte.gz to ./data/FashionMNIST/raw/t10k-labels-idx1-ubyte.gz\n"
          ]
        },
        {
          "output_type": "stream",
          "name": "stderr",
          "text": [
            "100%|██████████| 5148/5148 [00:00<00:00, 15935259.77it/s]"
          ]
        },
        {
          "output_type": "stream",
          "name": "stdout",
          "text": [
            "Extracting ./data/FashionMNIST/raw/t10k-labels-idx1-ubyte.gz to ./data/FashionMNIST/raw\n",
            "\n",
            "Training set has 60000 instances\n",
            "Validation set has 10000 instances\n"
          ]
        },
        {
          "output_type": "stream",
          "name": "stderr",
          "text": [
            "\n"
          ]
        }
      ],
      "source": [
        "import torch\n",
        "import torchvision\n",
        "import torchvision.transforms as transforms\n",
        "\n",
        "# PyTorch TensorBoard support\n",
        "from torch.utils.tensorboard import SummaryWriter\n",
        "from datetime import datetime\n",
        "\n",
        "\n",
        "transform = transforms.Compose(\n",
        "    [transforms.ToTensor(),\n",
        "    transforms.Normalize((0.5,), (0.5,))])\n",
        "\n",
        "# Create datasets for training & validation, download if necessary\n",
        "training_set = torchvision.datasets.FashionMNIST('./data', train=True, transform=transform, download=True)\n",
        "validation_set = torchvision.datasets.FashionMNIST('./data', train=False, transform=transform, download=True)\n",
        "\n",
        "# Create data loaders for our datasets; shuffle for training, not for validation\n",
        "training_loader = torch.utils.data.DataLoader(training_set, batch_size=4, shuffle=True)\n",
        "validation_loader = torch.utils.data.DataLoader(validation_set, batch_size=4, shuffle=False)\n",
        "\n",
        "# Class labels\n",
        "classes = ('T-shirt/top', 'Trouser', 'Pullover', 'Dress', 'Coat',\n",
        "        'Sandal', 'Shirt', 'Sneaker', 'Bag', 'Ankle Boot')\n",
        "\n",
        "# Report split sizes\n",
        "print('Training set has {} instances'.format(len(training_set)))\n",
        "print('Validation set has {} instances'.format(len(validation_set)))"
      ]
    },
    {
      "cell_type": "code",
      "source": [
        "import matplotlib.pyplot as plt\n",
        "import numpy as np\n",
        "\n",
        "# Helper function for inline image display\n",
        "def matplotlib_imshow(img, one_channel=False):\n",
        "    if one_channel:\n",
        "        img = img.mean(dim=0)\n",
        "    img = img / 2 + 0.5     # unnormalize\n",
        "    npimg = img.numpy()\n",
        "    if one_channel:\n",
        "        plt.imshow(npimg, cmap=\"Greys\")\n",
        "    else:\n",
        "        plt.imshow(np.transpose(npimg, (1, 2, 0)))\n",
        "\n",
        "dataiter = iter(training_loader)\n",
        "images, labels = next(dataiter)\n",
        "\n",
        "# Create a grid from the images and show them\n",
        "img_grid = torchvision.utils.make_grid(images)\n",
        "matplotlib_imshow(img_grid, one_channel=True)\n",
        "print('  '.join(classes[labels[j]] for j in range(4)))"
      ],
      "metadata": {
        "colab": {
          "base_uri": "https://localhost:8080/",
          "height": 212
        },
        "id": "AbQGUQJLsdeh",
        "outputId": "62c31638-ee09-4c19-a991-57d9ca03f79c"
      },
      "execution_count": 2,
      "outputs": [
        {
          "output_type": "stream",
          "name": "stdout",
          "text": [
            "Ankle Boot  Ankle Boot  Sandal  T-shirt/top\n"
          ]
        },
        {
          "output_type": "display_data",
          "data": {
            "text/plain": [
              "<Figure size 640x480 with 1 Axes>"
            ],
            "image/png": "[encoded data removed]"
          },
          "metadata": {}
        }
      ]
    },
    {
      "cell_type": "markdown",
      "source": [
        "Model"
      ],
      "metadata": {
        "id": "pbWcfzxZqLZm"
      }
    },
    {
      "cell_type": "code",
      "source": [
        "import torch.nn as nn\n",
        "import torch.nn.functional as F\n",
        "\n",
        "# PyTorch models inherit from torch.nn.Module\n",
        "class GarmentClassifier(nn.Module):\n",
        "    def __init__(self):\n",
        "        super(GarmentClassifier, self).__init__()\n",
        "        self.conv1 = nn.Conv2d(1, 6, 5)\n",
        "        self.pool = nn.MaxPool2d(2, 2)\n",
        "        self.conv2 = nn.Conv2d(6, 16, 5)\n",
        "        self.fc1 = nn.Linear(16 * 4 * 4, 120)\n",
        "        self.fc2 = nn.Linear(120, 84)\n",
        "        self.fc3 = nn.Linear(84, 10)\n",
        "\n",
        "    def forward(self, x):\n",
        "        x = self.pool(F.relu(self.conv1(x)))\n",
        "        x = self.pool(F.relu(self.conv2(x)))\n",
        "        x = x.view(-1, 16 * 4 * 4)\n",
        "        x = F.relu(self.fc1(x))\n",
        "        x = F.relu(self.fc2(x))\n",
        "        x = self.fc3(x)\n",
        "        return x\n",
        "\n",
        "\n",
        "model = GarmentClassifier()"
      ],
      "metadata": {
        "id": "a5wPYfK-uv7O"
      },
      "execution_count": 3,
      "outputs": []
    },
    {
      "cell_type": "markdown",
      "source": [
        "Loss Function"
      ],
      "metadata": {
        "id": "yOQUzYfjqF11"
      }
    },
    {
      "cell_type": "code",
      "source": [
        "loss_fn = torch.nn.CrossEntropyLoss()\n",
        "\n",
        "# NB: Loss functions expect data in batches, so we're creating batches of 4\n",
        "# Represents the model's confidence in each of the 10 classes for a given input\n",
        "dummy_outputs = torch.rand(4, 10)\n",
        "# Represents the correct class among the 10 being tested\n",
        "dummy_labels = torch.tensor([1, 5, 3, 7])\n",
        "\n",
        "print(dummy_outputs)\n",
        "print(dummy_labels)\n",
        "\n",
        "loss = loss_fn(dummy_outputs, dummy_labels)\n",
        "print('Total loss for this batch: {}'.format(loss.item()))"
      ],
      "metadata": {
        "colab": {
          "base_uri": "https://localhost:8080/"
        },
        "id": "6z0XOmKhp_ou",
        "outputId": "1e7c4697-9ac3-4f7f-de30-a764b840871c"
      },
      "execution_count": 4,
      "outputs": [
        {
          "output_type": "stream",
          "name": "stdout",
          "text": [
            "tensor([[0.7332, 0.8122, 0.8120, 0.1948, 0.8944, 0.6700, 0.0402, 0.5968, 0.2177,\n",
            "         0.4613],\n",
            "        [0.1264, 0.6303, 0.1671, 0.7980, 0.7991, 0.1825, 0.4508, 0.9780, 0.9890,\n",
            "         0.2127],\n",
            "        [0.3648, 0.0976, 0.2862, 0.7206, 0.1897, 0.2818, 0.0379, 0.8577, 0.2461,\n",
            "         0.4900],\n",
            "        [0.1328, 0.2582, 0.7597, 0.9326, 0.5531, 0.8932, 0.4542, 0.0320, 0.2819,\n",
            "         0.0297]])\n",
            "tensor([1, 5, 3, 7])\n",
            "Total loss for this batch: 2.3770804405212402\n"
          ]
        }
      ]
    },
    {
      "cell_type": "markdown",
      "source": [
        "Optimizer"
      ],
      "metadata": {
        "id": "wszRZJPDqMgX"
      }
    },
    {
      "cell_type": "code",
      "source": [
        "# Optimizers specified in the torch.optim package\n",
        "optimizer = torch.optim.SGD(model.parameters(), lr=0.001, momentum=0.9)"
      ],
      "metadata": {
        "id": "mGqvHSluqNsY"
      },
      "execution_count": 5,
      "outputs": []
    },
    {
      "cell_type": "markdown",
      "source": [
        "Training Loop"
      ],
      "metadata": {
        "id": "kOyNtIspqeFY"
      }
    },
    {
      "cell_type": "code",
      "source": [
        "def train_one_epoch(epoch_index, tb_writer):\n",
        "    running_loss = 0.\n",
        "    last_loss = 0.\n",
        "\n",
        "    # Here, we use enumerate(training_loader) instead of\n",
        "    # iter(training_loader) so that we can track the batch\n",
        "    # index and do some intra-epoch reporting\n",
        "    for i, data in enumerate(training_loader):\n",
        "        # Every data instance is an input + label pair\n",
        "        inputs, labels = data\n",
        "\n",
        "        # Zero your gradients for every batch!\n",
        "        optimizer.zero_grad()\n",
        "\n",
        "        # Make predictions for this batch\n",
        "        outputs = model(inputs)\n",
        "\n",
        "        # Compute the loss and its gradients\n",
        "        loss = loss_fn(outputs, labels)\n",
        "        loss.backward()\n",
        "\n",
        "        # Adjust learning weights\n",
        "        optimizer.step()\n",
        "\n",
        "        # Gather data and report\n",
        "        running_loss += loss.item()\n",
        "        if i % 1000 == 999:\n",
        "            last_loss = running_loss / 1000 # loss per batch\n",
        "            print('  batch {} loss: {}'.format(i + 1, last_loss))\n",
        "            tb_x = epoch_index * len(training_loader) + i + 1\n",
        "            tb_writer.add_scalar('Loss/train', last_loss, tb_x)\n",
        "            running_loss = 0.\n",
        "\n",
        "    return last_loss"
      ],
      "metadata": {
        "id": "Aabqg54EqcYf"
      },
      "execution_count": 6,
      "outputs": []
    },
    {
      "cell_type": "markdown",
      "source": [
        "Per-Epoch Activity"
      ],
      "metadata": {
        "id": "fxIznuKHrM5b"
      }
    },
    {
      "cell_type": "code",
      "source": [
        "# Initializing in a separate cell so we can easily add more epochs to the same run\n",
        "timestamp = datetime.now().strftime('%Y%m%d_%H%M%S')\n",
        "writer = SummaryWriter('runs/fashion_trainer_{}'.format(timestamp))\n",
        "epoch_number = 0\n",
        "\n",
        "EPOCHS = 5\n",
        "\n",
        "best_vloss = 1_000_000.\n",
        "\n",
        "for epoch in range(EPOCHS):\n",
        "    print('EPOCH {}:'.format(epoch_number + 1))\n",
        "\n",
        "    # Make sure gradient tracking is on, and do a pass over the data\n",
        "    model.train(True)\n",
        "    avg_loss = train_one_epoch(epoch_number, writer)\n",
        "\n",
        "\n",
        "    running_vloss = 0.0\n",
        "    # Set the model to evaluation mode, disabling dropout and using population\n",
        "    # statistics for batch normalization.\n",
        "    model.eval()\n",
        "\n",
        "    # Disable gradient computation and reduce memory consumption.\n",
        "    with torch.no_grad():\n",
        "        for i, vdata in enumerate(validation_loader):\n",
        "            vinputs, vlabels = vdata\n",
        "            voutputs = model(vinputs)\n",
        "            vloss = loss_fn(voutputs, vlabels)\n",
        "            running_vloss += vloss\n",
        "\n",
        "    avg_vloss = running_vloss / (i + 1)\n",
        "    print('LOSS train {} valid {}'.format(avg_loss, avg_vloss))\n",
        "\n",
        "    # Log the running loss averaged per batch\n",
        "    # for both training and validation\n",
        "    writer.add_scalars('Training vs. Validation Loss',\n",
        "                    { 'Training' : avg_loss, 'Validation' : avg_vloss },\n",
        "                    epoch_number + 1)\n",
        "    writer.flush()\n",
        "\n",
        "    # Track best performance, and save the model's state\n",
        "    if avg_vloss < best_vloss:\n",
        "        best_vloss = avg_vloss\n",
        "        model_path = 'model_{}_{}'.format(timestamp, epoch_number)\n",
        "        torch.save(model.state_dict(), model_path)\n",
        "\n",
        "    epoch_number += 1"
      ],
      "metadata": {
        "colab": {
          "base_uri": "https://localhost:8080/"
        },
        "id": "yl3s6dN1q-Au",
        "outputId": "12ea1715-8a1d-4108-967c-ef69aa67cd6b"
      },
      "execution_count": 7,
      "outputs": [
        {
          "output_type": "stream",
          "name": "stdout",
          "text": [
            "EPOCH 1:\n",
            "  batch 1000 loss: 1.6824021390527486\n",
            "  batch 2000 loss: 0.8654571528341621\n",
            "  batch 3000 loss: 0.7145391858555377\n",
            "  batch 4000 loss: 0.6588479601535946\n",
            "  batch 5000 loss: 0.6191045382341835\n",
            "  batch 6000 loss: 0.5466439823504771\n",
            "  batch 7000 loss: 0.5512895741972607\n",
            "  batch 8000 loss: 0.51554218513472\n",
            "  batch 9000 loss: 0.48495657944766574\n",
            "  batch 10000 loss: 0.45842779511830306\n",
            "  batch 11000 loss: 0.44225953587924594\n",
            "  batch 12000 loss: 0.4669859495083801\n",
            "  batch 13000 loss: 0.4345039644143544\n",
            "  batch 14000 loss: 0.4157395976551343\n",
            "  batch 15000 loss: 0.42911526723578575\n",
            "LOSS train 0.42911526723578575 valid 0.43576347827911377\n",
            "EPOCH 2:\n",
            "  batch 1000 loss: 0.4041369556320133\n",
            "  batch 2000 loss: 0.39604816080682215\n",
            "  batch 3000 loss: 0.37963264757374415\n",
            "  batch 4000 loss: 0.38178179033269405\n",
            "  batch 5000 loss: 0.3781901894655457\n",
            "  batch 6000 loss: 0.38533499381443836\n",
            "  batch 7000 loss: 0.3776316481092072\n",
            "  batch 8000 loss: 0.3758435191868339\n",
            "  batch 9000 loss: 0.3783595634069643\n",
            "  batch 10000 loss: 0.3627250504016556\n",
            "  batch 11000 loss: 0.3715484825718449\n",
            "  batch 12000 loss: 0.34639405820780667\n",
            "  batch 13000 loss: 0.37162219652120254\n",
            "  batch 14000 loss: 0.3593025274310494\n",
            "  batch 15000 loss: 0.332593275349529\n",
            "LOSS train 0.332593275349529 valid 0.37754523754119873\n",
            "EPOCH 3:\n",
            "  batch 1000 loss: 0.3298283806833788\n",
            "  batch 2000 loss: 0.3281601937230007\n",
            "  batch 3000 loss: 0.3198902639023727\n",
            "  batch 4000 loss: 0.3171320310901574\n",
            "  batch 5000 loss: 0.3267889552736451\n",
            "  batch 6000 loss: 0.3468571803011\n",
            "  batch 7000 loss: 0.30788880818750475\n",
            "  batch 8000 loss: 0.3269598806673166\n",
            "  batch 9000 loss: 0.3258865628609783\n",
            "  batch 10000 loss: 0.3367316526642244\n",
            "  batch 11000 loss: 0.32768977361665746\n",
            "  batch 12000 loss: 0.3255569044571603\n",
            "  batch 13000 loss: 0.3325190839529096\n",
            "  batch 14000 loss: 0.30376964442641474\n",
            "  batch 15000 loss: 0.3264865368841056\n",
            "LOSS train 0.3264865368841056 valid 0.34755077958106995\n",
            "EPOCH 4:\n",
            "  batch 1000 loss: 0.31446763000037753\n",
            "  batch 2000 loss: 0.29638762201818464\n",
            "  batch 3000 loss: 0.29098193285283924\n",
            "  batch 4000 loss: 0.294550012254942\n",
            "  batch 5000 loss: 0.28463173355344773\n",
            "  batch 6000 loss: 0.3233088658744673\n",
            "  batch 7000 loss: 0.2911710429856612\n",
            "  batch 8000 loss: 0.2940491238401155\n",
            "  batch 9000 loss: 0.29407831652921596\n",
            "  batch 10000 loss: 0.30582126971124673\n",
            "  batch 11000 loss: 0.30484975680376375\n",
            "  batch 12000 loss: 0.2916569250939792\n",
            "  batch 13000 loss: 0.300284360263744\n",
            "  batch 14000 loss: 0.3080884593055889\n",
            "  batch 15000 loss: 0.2868633808156574\n",
            "LOSS train 0.2868633808156574 valid 0.33466291427612305\n",
            "EPOCH 5:\n",
            "  batch 1000 loss: 0.27053965331275687\n",
            "  batch 2000 loss: 0.27655119988558724\n",
            "  batch 3000 loss: 0.2722051902849189\n",
            "  batch 4000 loss: 0.2718423721225845\n",
            "  batch 5000 loss: 0.2858411711107328\n",
            "  batch 6000 loss: 0.27876322949971655\n",
            "  batch 7000 loss: 0.2850618681320775\n",
            "  batch 8000 loss: 0.28796486650808945\n",
            "  batch 9000 loss: 0.2841680652320501\n",
            "  batch 10000 loss: 0.2616168871022019\n",
            "  batch 11000 loss: 0.26384660368618645\n",
            "  batch 12000 loss: 0.27311697119275413\n",
            "  batch 13000 loss: 0.2940864389768831\n",
            "  batch 14000 loss: 0.2768215905599645\n",
            "  batch 15000 loss: 0.2921141776984623\n",
            "LOSS train 0.2921141776984623 valid 0.3340325951576233\n"
          ]
        }
      ]
    }
  ]
}