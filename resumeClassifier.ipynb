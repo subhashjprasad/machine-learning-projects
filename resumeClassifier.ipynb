{
  "nbformat": 4,
  "nbformat_minor": 0,
  "metadata": {
    "colab": {
      "provenance": [],
      "gpuType": "T4",
      "authorship_tag": "ABX9TyPZyFC/S74zl06DNyn9nmrd",
      "include_colab_link": true
    },
    "kernelspec": {
      "name": "python3",
      "display_name": "Python 3"
    },
    "language_info": {
      "name": "python"
    },
    "accelerator": "GPU",
    "widgets": {
      "application/vnd.jupyter.widget-state+json": {
        "66b70ec946f042d9803c34a32051e392": {
          "model_module": "@jupyter-widgets/controls",
          "model_name": "HBoxModel",
          "model_module_version": "1.5.0",
          "state": {
            "_dom_classes": [],
            "_model_module": "@jupyter-widgets/controls",
            "_model_module_version": "1.5.0",
            "_model_name": "HBoxModel",
            "_view_count": null,
            "_view_module": "@jupyter-widgets/controls",
            "_view_module_version": "1.5.0",
            "_view_name": "HBoxView",
            "box_style": "",
            "children": [
              "IPY_MODEL_7a238038d4ae400a8515bcf6eed8e752",
              "IPY_MODEL_a1c822bab3904a56a3cc15b47f56792d",
              "IPY_MODEL_26f992c8b2d14c6ea2b238cef7d31735"
            ],
            "layout": "IPY_MODEL_441565b3cb264947ad58ded8a70def25"
          }
        },
        "7a238038d4ae400a8515bcf6eed8e752": {
          "model_module": "@jupyter-widgets/controls",
          "model_name": "HTMLModel",
          "model_module_version": "1.5.0",
          "state": {
            "_dom_classes": [],
            "_model_module": "@jupyter-widgets/controls",
            "_model_module_version": "1.5.0",
            "_model_name": "HTMLModel",
            "_view_count": null,
            "_view_module": "@jupyter-widgets/controls",
            "_view_module_version": "1.5.0",
            "_view_name": "HTMLView",
            "description": "",
            "description_tooltip": null,
            "layout": "IPY_MODEL_5eb90737957f4db3a4a3cd0c89e7c98c",
            "placeholder": "​",
            "style": "IPY_MODEL_a4bf8d7f90d74286a9ab312909b0e247",
            "value": "Map: 100%"
          }
        },
        "a1c822bab3904a56a3cc15b47f56792d": {
          "model_module": "@jupyter-widgets/controls",
          "model_name": "FloatProgressModel",
          "model_module_version": "1.5.0",
          "state": {
            "_dom_classes": [],
            "_model_module": "@jupyter-widgets/controls",
            "_model_module_version": "1.5.0",
            "_model_name": "FloatProgressModel",
            "_view_count": null,
            "_view_module": "@jupyter-widgets/controls",
            "_view_module_version": "1.5.0",
            "_view_name": "ProgressView",
            "bar_style": "success",
            "description": "",
            "description_tooltip": null,
            "layout": "IPY_MODEL_c1d4983eabe74fb7b1ebf86f74e2acdc",
            "max": 2235,
            "min": 0,
            "orientation": "horizontal",
            "style": "IPY_MODEL_0781e48d215b4afdac383231bfb442b9",
            "value": 2235
          }
        },
        "26f992c8b2d14c6ea2b238cef7d31735": {
          "model_module": "@jupyter-widgets/controls",
          "model_name": "HTMLModel",
          "model_module_version": "1.5.0",
          "state": {
            "_dom_classes": [],
            "_model_module": "@jupyter-widgets/controls",
            "_model_module_version": "1.5.0",
            "_model_name": "HTMLModel",
            "_view_count": null,
            "_view_module": "@jupyter-widgets/controls",
            "_view_module_version": "1.5.0",
            "_view_name": "HTMLView",
            "description": "",
            "description_tooltip": null,
            "layout": "IPY_MODEL_28ae9a476f9746e9a027c82b41d9e51a",
            "placeholder": "​",
            "style": "IPY_MODEL_d38344210ab94dc184b9c82589341721",
            "value": " 2235/2235 [00:15&lt;00:00, 154.36 examples/s]"
          }
        },
        "441565b3cb264947ad58ded8a70def25": {
          "model_module": "@jupyter-widgets/base",
          "model_name": "LayoutModel",
          "model_module_version": "1.2.0",
          "state": {
            "_model_module": "@jupyter-widgets/base",
            "_model_module_version": "1.2.0",
            "_model_name": "LayoutModel",
            "_view_count": null,
            "_view_module": "@jupyter-widgets/base",
            "_view_module_version": "1.2.0",
            "_view_name": "LayoutView",
            "align_content": null,
            "align_items": null,
            "align_self": null,
            "border": null,
            "bottom": null,
            "display": null,
            "flex": null,
            "flex_flow": null,
            "grid_area": null,
            "grid_auto_columns": null,
            "grid_auto_flow": null,
            "grid_auto_rows": null,
            "grid_column": null,
            "grid_gap": null,
            "grid_row": null,
            "grid_template_areas": null,
            "grid_template_columns": null,
            "grid_template_rows": null,
            "height": null,
            "justify_content": null,
            "justify_items": null,
            "left": null,
            "margin": null,
            "max_height": null,
            "max_width": null,
            "min_height": null,
            "min_width": null,
            "object_fit": null,
            "object_position": null,
            "order": null,
            "overflow": null,
            "overflow_x": null,
            "overflow_y": null,
            "padding": null,
            "right": null,
            "top": null,
            "visibility": null,
            "width": null
          }
        },
        "5eb90737957f4db3a4a3cd0c89e7c98c": {
          "model_module": "@jupyter-widgets/base",
          "model_name": "LayoutModel",
          "model_module_version": "1.2.0",
          "state": {
            "_model_module": "@jupyter-widgets/base",
            "_model_module_version": "1.2.0",
            "_model_name": "LayoutModel",
            "_view_count": null,
            "_view_module": "@jupyter-widgets/base",
            "_view_module_version": "1.2.0",
            "_view_name": "LayoutView",
            "align_content": null,
            "align_items": null,
            "align_self": null,
            "border": null,
            "bottom": null,
            "display": null,
            "flex": null,
            "flex_flow": null,
            "grid_area": null,
            "grid_auto_columns": null,
            "grid_auto_flow": null,
            "grid_auto_rows": null,
            "grid_column": null,
            "grid_gap": null,
            "grid_row": null,
            "grid_template_areas": null,
            "grid_template_columns": null,
            "grid_template_rows": null,
            "height": null,
            "justify_content": null,
            "justify_items": null,
            "left": null,
            "margin": null,
            "max_height": null,
            "max_width": null,
            "min_height": null,
            "min_width": null,
            "object_fit": null,
            "object_position": null,
            "order": null,
            "overflow": null,
            "overflow_x": null,
            "overflow_y": null,
            "padding": null,
            "right": null,
            "top": null,
            "visibility": null,
            "width": null
          }
        },
        "a4bf8d7f90d74286a9ab312909b0e247": {
          "model_module": "@jupyter-widgets/controls",
          "model_name": "DescriptionStyleModel",
          "model_module_version": "1.5.0",
          "state": {
            "_model_module": "@jupyter-widgets/controls",
            "_model_module_version": "1.5.0",
            "_model_name": "DescriptionStyleModel",
            "_view_count": null,
            "_view_module": "@jupyter-widgets/base",
            "_view_module_version": "1.2.0",
            "_view_name": "StyleView",
            "description_width": ""
          }
        },
        "c1d4983eabe74fb7b1ebf86f74e2acdc": {
          "model_module": "@jupyter-widgets/base",
          "model_name": "LayoutModel",
          "model_module_version": "1.2.0",
          "state": {
            "_model_module": "@jupyter-widgets/base",
            "_model_module_version": "1.2.0",
            "_model_name": "LayoutModel",
            "_view_count": null,
            "_view_module": "@jupyter-widgets/base",
            "_view_module_version": "1.2.0",
            "_view_name": "LayoutView",
            "align_content": null,
            "align_items": null,
            "align_self": null,
            "border": null,
            "bottom": null,
            "display": null,
            "flex": null,
            "flex_flow": null,
            "grid_area": null,
            "grid_auto_columns": null,
            "grid_auto_flow": null,
            "grid_auto_rows": null,
            "grid_column": null,
            "grid_gap": null,
            "grid_row": null,
            "grid_template_areas": null,
            "grid_template_columns": null,
            "grid_template_rows": null,
            "height": null,
            "justify_content": null,
            "justify_items": null,
            "left": null,
            "margin": null,
            "max_height": null,
            "max_width": null,
            "min_height": null,
            "min_width": null,
            "object_fit": null,
            "object_position": null,
            "order": null,
            "overflow": null,
            "overflow_x": null,
            "overflow_y": null,
            "padding": null,
            "right": null,
            "top": null,
            "visibility": null,
            "width": null
          }
        },
        "0781e48d215b4afdac383231bfb442b9": {
          "model_module": "@jupyter-widgets/controls",
          "model_name": "ProgressStyleModel",
          "model_module_version": "1.5.0",
          "state": {
            "_model_module": "@jupyter-widgets/controls",
            "_model_module_version": "1.5.0",
            "_model_name": "ProgressStyleModel",
            "_view_count": null,
            "_view_module": "@jupyter-widgets/base",
            "_view_module_version": "1.2.0",
            "_view_name": "StyleView",
            "bar_color": null,
            "description_width": ""
          }
        },
        "28ae9a476f9746e9a027c82b41d9e51a": {
          "model_module": "@jupyter-widgets/base",
          "model_name": "LayoutModel",
          "model_module_version": "1.2.0",
          "state": {
            "_model_module": "@jupyter-widgets/base",
            "_model_module_version": "1.2.0",
            "_model_name": "LayoutModel",
            "_view_count": null,
            "_view_module": "@jupyter-widgets/base",
            "_view_module_version": "1.2.0",
            "_view_name": "LayoutView",
            "align_content": null,
            "align_items": null,
            "align_self": null,
            "border": null,
            "bottom": null,
            "display": null,
            "flex": null,
            "flex_flow": null,
            "grid_area": null,
            "grid_auto_columns": null,
            "grid_auto_flow": null,
            "grid_auto_rows": null,
            "grid_column": null,
            "grid_gap": null,
            "grid_row": null,
            "grid_template_areas": null,
            "grid_template_columns": null,
            "grid_template_rows": null,
            "height": null,
            "justify_content": null,
            "justify_items": null,
            "left": null,
            "margin": null,
            "max_height": null,
            "max_width": null,
            "min_height": null,
            "min_width": null,
            "object_fit": null,
            "object_position": null,
            "order": null,
            "overflow": null,
            "overflow_x": null,
            "overflow_y": null,
            "padding": null,
            "right": null,
            "top": null,
            "visibility": null,
            "width": null
          }
        },
        "d38344210ab94dc184b9c82589341721": {
          "model_module": "@jupyter-widgets/controls",
          "model_name": "DescriptionStyleModel",
          "model_module_version": "1.5.0",
          "state": {
            "_model_module": "@jupyter-widgets/controls",
            "_model_module_version": "1.5.0",
            "_model_name": "DescriptionStyleModel",
            "_view_count": null,
            "_view_module": "@jupyter-widgets/base",
            "_view_module_version": "1.2.0",
            "_view_name": "StyleView",
            "description_width": ""
          }
        },
        "0890cde218374c1680746cf6a5d0d368": {
          "model_module": "@jupyter-widgets/controls",
          "model_name": "HBoxModel",
          "model_module_version": "1.5.0",
          "state": {
            "_dom_classes": [],
            "_model_module": "@jupyter-widgets/controls",
            "_model_module_version": "1.5.0",
            "_model_name": "HBoxModel",
            "_view_count": null,
            "_view_module": "@jupyter-widgets/controls",
            "_view_module_version": "1.5.0",
            "_view_name": "HBoxView",
            "box_style": "",
            "children": [
              "IPY_MODEL_332897eeaf0c49b9a7cee29f0b18e4c6",
              "IPY_MODEL_47e39b735763450087ff557e7deb8b5d",
              "IPY_MODEL_59bca66d8c1b492fa1021749d41f0552"
            ],
            "layout": "IPY_MODEL_21b8da441f7a4fc69cf9d668b40e7993"
          }
        },
        "332897eeaf0c49b9a7cee29f0b18e4c6": {
          "model_module": "@jupyter-widgets/controls",
          "model_name": "HTMLModel",
          "model_module_version": "1.5.0",
          "state": {
            "_dom_classes": [],
            "_model_module": "@jupyter-widgets/controls",
            "_model_module_version": "1.5.0",
            "_model_name": "HTMLModel",
            "_view_count": null,
            "_view_module": "@jupyter-widgets/controls",
            "_view_module_version": "1.5.0",
            "_view_name": "HTMLView",
            "description": "",
            "description_tooltip": null,
            "layout": "IPY_MODEL_3303f5ab27854ad692ca894e69c79cee",
            "placeholder": "​",
            "style": "IPY_MODEL_d5ecf1261d694af4835e469897141895",
            "value": "Map: 100%"
          }
        },
        "47e39b735763450087ff557e7deb8b5d": {
          "model_module": "@jupyter-widgets/controls",
          "model_name": "FloatProgressModel",
          "model_module_version": "1.5.0",
          "state": {
            "_dom_classes": [],
            "_model_module": "@jupyter-widgets/controls",
            "_model_module_version": "1.5.0",
            "_model_name": "FloatProgressModel",
            "_view_count": null,
            "_view_module": "@jupyter-widgets/controls",
            "_view_module_version": "1.5.0",
            "_view_name": "ProgressView",
            "bar_style": "success",
            "description": "",
            "description_tooltip": null,
            "layout": "IPY_MODEL_8123c9c87cc5490395b87726470991d1",
            "max": 125,
            "min": 0,
            "orientation": "horizontal",
            "style": "IPY_MODEL_f755ca00d30f47b4ab9d126ff7e35f82",
            "value": 125
          }
        },
        "59bca66d8c1b492fa1021749d41f0552": {
          "model_module": "@jupyter-widgets/controls",
          "model_name": "HTMLModel",
          "model_module_version": "1.5.0",
          "state": {
            "_dom_classes": [],
            "_model_module": "@jupyter-widgets/controls",
            "_model_module_version": "1.5.0",
            "_model_name": "HTMLModel",
            "_view_count": null,
            "_view_module": "@jupyter-widgets/controls",
            "_view_module_version": "1.5.0",
            "_view_name": "HTMLView",
            "description": "",
            "description_tooltip": null,
            "layout": "IPY_MODEL_a6dba8dcfde247b180ccaf48d96b8621",
            "placeholder": "​",
            "style": "IPY_MODEL_818e9db0389641389da98cb89dc4bfac",
            "value": " 125/125 [00:00&lt;00:00, 194.25 examples/s]"
          }
        },
        "21b8da441f7a4fc69cf9d668b40e7993": {
          "model_module": "@jupyter-widgets/base",
          "model_name": "LayoutModel",
          "model_module_version": "1.2.0",
          "state": {
            "_model_module": "@jupyter-widgets/base",
            "_model_module_version": "1.2.0",
            "_model_name": "LayoutModel",
            "_view_count": null,
            "_view_module": "@jupyter-widgets/base",
            "_view_module_version": "1.2.0",
            "_view_name": "LayoutView",
            "align_content": null,
            "align_items": null,
            "align_self": null,
            "border": null,
            "bottom": null,
            "display": null,
            "flex": null,
            "flex_flow": null,
            "grid_area": null,
            "grid_auto_columns": null,
            "grid_auto_flow": null,
            "grid_auto_rows": null,
            "grid_column": null,
            "grid_gap": null,
            "grid_row": null,
            "grid_template_areas": null,
            "grid_template_columns": null,
            "grid_template_rows": null,
            "height": null,
            "justify_content": null,
            "justify_items": null,
            "left": null,
            "margin": null,
            "max_height": null,
            "max_width": null,
            "min_height": null,
            "min_width": null,
            "object_fit": null,
            "object_position": null,
            "order": null,
            "overflow": null,
            "overflow_x": null,
            "overflow_y": null,
            "padding": null,
            "right": null,
            "top": null,
            "visibility": null,
            "width": null
          }
        },
        "3303f5ab27854ad692ca894e69c79cee": {
          "model_module": "@jupyter-widgets/base",
          "model_name": "LayoutModel",
          "model_module_version": "1.2.0",
          "state": {
            "_model_module": "@jupyter-widgets/base",
            "_model_module_version": "1.2.0",
            "_model_name": "LayoutModel",
            "_view_count": null,
            "_view_module": "@jupyter-widgets/base",
            "_view_module_version": "1.2.0",
            "_view_name": "LayoutView",
            "align_content": null,
            "align_items": null,
            "align_self": null,
            "border": null,
            "bottom": null,
            "display": null,
            "flex": null,
            "flex_flow": null,
            "grid_area": null,
            "grid_auto_columns": null,
            "grid_auto_flow": null,
            "grid_auto_rows": null,
            "grid_column": null,
            "grid_gap": null,
            "grid_row": null,
            "grid_template_areas": null,
            "grid_template_columns": null,
            "grid_template_rows": null,
            "height": null,
            "justify_content": null,
            "justify_items": null,
            "left": null,
            "margin": null,
            "max_height": null,
            "max_width": null,
            "min_height": null,
            "min_width": null,
            "object_fit": null,
            "object_position": null,
            "order": null,
            "overflow": null,
            "overflow_x": null,
            "overflow_y": null,
            "padding": null,
            "right": null,
            "top": null,
            "visibility": null,
            "width": null
          }
        },
        "d5ecf1261d694af4835e469897141895": {
          "model_module": "@jupyter-widgets/controls",
          "model_name": "DescriptionStyleModel",
          "model_module_version": "1.5.0",
          "state": {
            "_model_module": "@jupyter-widgets/controls",
            "_model_module_version": "1.5.0",
            "_model_name": "DescriptionStyleModel",
            "_view_count": null,
            "_view_module": "@jupyter-widgets/base",
            "_view_module_version": "1.2.0",
            "_view_name": "StyleView",
            "description_width": ""
          }
        },
        "8123c9c87cc5490395b87726470991d1": {
          "model_module": "@jupyter-widgets/base",
          "model_name": "LayoutModel",
          "model_module_version": "1.2.0",
          "state": {
            "_model_module": "@jupyter-widgets/base",
            "_model_module_version": "1.2.0",
            "_model_name": "LayoutModel",
            "_view_count": null,
            "_view_module": "@jupyter-widgets/base",
            "_view_module_version": "1.2.0",
            "_view_name": "LayoutView",
            "align_content": null,
            "align_items": null,
            "align_self": null,
            "border": null,
            "bottom": null,
            "display": null,
            "flex": null,
            "flex_flow": null,
            "grid_area": null,
            "grid_auto_columns": null,
            "grid_auto_flow": null,
            "grid_auto_rows": null,
            "grid_column": null,
            "grid_gap": null,
            "grid_row": null,
            "grid_template_areas": null,
            "grid_template_columns": null,
            "grid_template_rows": null,
            "height": null,
            "justify_content": null,
            "justify_items": null,
            "left": null,
            "margin": null,
            "max_height": null,
            "max_width": null,
            "min_height": null,
            "min_width": null,
            "object_fit": null,
            "object_position": null,
            "order": null,
            "overflow": null,
            "overflow_x": null,
            "overflow_y": null,
            "padding": null,
            "right": null,
            "top": null,
            "visibility": null,
            "width": null
          }
        },
        "f755ca00d30f47b4ab9d126ff7e35f82": {
          "model_module": "@jupyter-widgets/controls",
          "model_name": "ProgressStyleModel",
          "model_module_version": "1.5.0",
          "state": {
            "_model_module": "@jupyter-widgets/controls",
            "_model_module_version": "1.5.0",
            "_model_name": "ProgressStyleModel",
            "_view_count": null,
            "_view_module": "@jupyter-widgets/base",
            "_view_module_version": "1.2.0",
            "_view_name": "StyleView",
            "bar_color": null,
            "description_width": ""
          }
        },
        "a6dba8dcfde247b180ccaf48d96b8621": {
          "model_module": "@jupyter-widgets/base",
          "model_name": "LayoutModel",
          "model_module_version": "1.2.0",
          "state": {
            "_model_module": "@jupyter-widgets/base",
            "_model_module_version": "1.2.0",
            "_model_name": "LayoutModel",
            "_view_count": null,
            "_view_module": "@jupyter-widgets/base",
            "_view_module_version": "1.2.0",
            "_view_name": "LayoutView",
            "align_content": null,
            "align_items": null,
            "align_self": null,
            "border": null,
            "bottom": null,
            "display": null,
            "flex": null,
            "flex_flow": null,
            "grid_area": null,
            "grid_auto_columns": null,
            "grid_auto_flow": null,
            "grid_auto_rows": null,
            "grid_column": null,
            "grid_gap": null,
            "grid_row": null,
            "grid_template_areas": null,
            "grid_template_columns": null,
            "grid_template_rows": null,
            "height": null,
            "justify_content": null,
            "justify_items": null,
            "left": null,
            "margin": null,
            "max_height": null,
            "max_width": null,
            "min_height": null,
            "min_width": null,
            "object_fit": null,
            "object_position": null,
            "order": null,
            "overflow": null,
            "overflow_x": null,
            "overflow_y": null,
            "padding": null,
            "right": null,
            "top": null,
            "visibility": null,
            "width": null
          }
        },
        "818e9db0389641389da98cb89dc4bfac": {
          "model_module": "@jupyter-widgets/controls",
          "model_name": "DescriptionStyleModel",
          "model_module_version": "1.5.0",
          "state": {
            "_model_module": "@jupyter-widgets/controls",
            "_model_module_version": "1.5.0",
            "_model_name": "DescriptionStyleModel",
            "_view_count": null,
            "_view_module": "@jupyter-widgets/base",
            "_view_module_version": "1.2.0",
            "_view_name": "StyleView",
            "description_width": ""
          }
        },
        "a06be00a38b64d388e98709a3fab2326": {
          "model_module": "@jupyter-widgets/controls",
          "model_name": "HBoxModel",
          "model_module_version": "1.5.0",
          "state": {
            "_dom_classes": [],
            "_model_module": "@jupyter-widgets/controls",
            "_model_module_version": "1.5.0",
            "_model_name": "HBoxModel",
            "_view_count": null,
            "_view_module": "@jupyter-widgets/controls",
            "_view_module_version": "1.5.0",
            "_view_name": "HBoxView",
            "box_style": "",
            "children": [
              "IPY_MODEL_f16ff4632c794b298ca9d54fbb519d7f",
              "IPY_MODEL_52b65467c83749eeac6a69d45b187eda",
              "IPY_MODEL_34628ba003e54f96824bbe1772dd5fa8"
            ],
            "layout": "IPY_MODEL_d11194794b9f4c8b8031eed9e90bb686"
          }
        },
        "f16ff4632c794b298ca9d54fbb519d7f": {
          "model_module": "@jupyter-widgets/controls",
          "model_name": "HTMLModel",
          "model_module_version": "1.5.0",
          "state": {
            "_dom_classes": [],
            "_model_module": "@jupyter-widgets/controls",
            "_model_module_version": "1.5.0",
            "_model_name": "HTMLModel",
            "_view_count": null,
            "_view_module": "@jupyter-widgets/controls",
            "_view_module_version": "1.5.0",
            "_view_name": "HTMLView",
            "description": "",
            "description_tooltip": null,
            "layout": "IPY_MODEL_ae9f0bed1a284d3f88111930ef7acc5c",
            "placeholder": "​",
            "style": "IPY_MODEL_068cb76b9a354ef8be9877b0985d33d1",
            "value": "Map: 100%"
          }
        },
        "52b65467c83749eeac6a69d45b187eda": {
          "model_module": "@jupyter-widgets/controls",
          "model_name": "FloatProgressModel",
          "model_module_version": "1.5.0",
          "state": {
            "_dom_classes": [],
            "_model_module": "@jupyter-widgets/controls",
            "_model_module_version": "1.5.0",
            "_model_name": "FloatProgressModel",
            "_view_count": null,
            "_view_module": "@jupyter-widgets/controls",
            "_view_module_version": "1.5.0",
            "_view_name": "ProgressView",
            "bar_style": "success",
            "description": "",
            "description_tooltip": null,
            "layout": "IPY_MODEL_cd7c7e070e4247f9a5c3581e625a57a1",
            "max": 124,
            "min": 0,
            "orientation": "horizontal",
            "style": "IPY_MODEL_fb898187f4bd4197b15ee01dee000ed6",
            "value": 124
          }
        },
        "34628ba003e54f96824bbe1772dd5fa8": {
          "model_module": "@jupyter-widgets/controls",
          "model_name": "HTMLModel",
          "model_module_version": "1.5.0",
          "state": {
            "_dom_classes": [],
            "_model_module": "@jupyter-widgets/controls",
            "_model_module_version": "1.5.0",
            "_model_name": "HTMLModel",
            "_view_count": null,
            "_view_module": "@jupyter-widgets/controls",
            "_view_module_version": "1.5.0",
            "_view_name": "HTMLView",
            "description": "",
            "description_tooltip": null,
            "layout": "IPY_MODEL_00f0e8c0b3324dd481f6c8cf39da1c92",
            "placeholder": "​",
            "style": "IPY_MODEL_e97016b1b6f343b482f108e7e0f42e4e",
            "value": " 124/124 [00:00&lt;00:00, 189.46 examples/s]"
          }
        },
        "d11194794b9f4c8b8031eed9e90bb686": {
          "model_module": "@jupyter-widgets/base",
          "model_name": "LayoutModel",
          "model_module_version": "1.2.0",
          "state": {
            "_model_module": "@jupyter-widgets/base",
            "_model_module_version": "1.2.0",
            "_model_name": "LayoutModel",
            "_view_count": null,
            "_view_module": "@jupyter-widgets/base",
            "_view_module_version": "1.2.0",
            "_view_name": "LayoutView",
            "align_content": null,
            "align_items": null,
            "align_self": null,
            "border": null,
            "bottom": null,
            "display": null,
            "flex": null,
            "flex_flow": null,
            "grid_area": null,
            "grid_auto_columns": null,
            "grid_auto_flow": null,
            "grid_auto_rows": null,
            "grid_column": null,
            "grid_gap": null,
            "grid_row": null,
            "grid_template_areas": null,
            "grid_template_columns": null,
            "grid_template_rows": null,
            "height": null,
            "justify_content": null,
            "justify_items": null,
            "left": null,
            "margin": null,
            "max_height": null,
            "max_width": null,
            "min_height": null,
            "min_width": null,
            "object_fit": null,
            "object_position": null,
            "order": null,
            "overflow": null,
            "overflow_x": null,
            "overflow_y": null,
            "padding": null,
            "right": null,
            "top": null,
            "visibility": null,
            "width": null
          }
        },
        "ae9f0bed1a284d3f88111930ef7acc5c": {
          "model_module": "@jupyter-widgets/base",
          "model_name": "LayoutModel",
          "model_module_version": "1.2.0",
          "state": {
            "_model_module": "@jupyter-widgets/base",
            "_model_module_version": "1.2.0",
            "_model_name": "LayoutModel",
            "_view_count": null,
            "_view_module": "@jupyter-widgets/base",
            "_view_module_version": "1.2.0",
            "_view_name": "LayoutView",
            "align_content": null,
            "align_items": null,
            "align_self": null,
            "border": null,
            "bottom": null,
            "display": null,
            "flex": null,
            "flex_flow": null,
            "grid_area": null,
            "grid_auto_columns": null,
            "grid_auto_flow": null,
            "grid_auto_rows": null,
            "grid_column": null,
            "grid_gap": null,
            "grid_row": null,
            "grid_template_areas": null,
            "grid_template_columns": null,
            "grid_template_rows": null,
            "height": null,
            "justify_content": null,
            "justify_items": null,
            "left": null,
            "margin": null,
            "max_height": null,
            "max_width": null,
            "min_height": null,
            "min_width": null,
            "object_fit": null,
            "object_position": null,
            "order": null,
            "overflow": null,
            "overflow_x": null,
            "overflow_y": null,
            "padding": null,
            "right": null,
            "top": null,
            "visibility": null,
            "width": null
          }
        },
        "068cb76b9a354ef8be9877b0985d33d1": {
          "model_module": "@jupyter-widgets/controls",
          "model_name": "DescriptionStyleModel",
          "model_module_version": "1.5.0",
          "state": {
            "_model_module": "@jupyter-widgets/controls",
            "_model_module_version": "1.5.0",
            "_model_name": "DescriptionStyleModel",
            "_view_count": null,
            "_view_module": "@jupyter-widgets/base",
            "_view_module_version": "1.2.0",
            "_view_name": "StyleView",
            "description_width": ""
          }
        },
        "cd7c7e070e4247f9a5c3581e625a57a1": {
          "model_module": "@jupyter-widgets/base",
          "model_name": "LayoutModel",
          "model_module_version": "1.2.0",
          "state": {
            "_model_module": "@jupyter-widgets/base",
            "_model_module_version": "1.2.0",
            "_model_name": "LayoutModel",
            "_view_count": null,
            "_view_module": "@jupyter-widgets/base",
            "_view_module_version": "1.2.0",
            "_view_name": "LayoutView",
            "align_content": null,
            "align_items": null,
            "align_self": null,
            "border": null,
            "bottom": null,
            "display": null,
            "flex": null,
            "flex_flow": null,
            "grid_area": null,
            "grid_auto_columns": null,
            "grid_auto_flow": null,
            "grid_auto_rows": null,
            "grid_column": null,
            "grid_gap": null,
            "grid_row": null,
            "grid_template_areas": null,
            "grid_template_columns": null,
            "grid_template_rows": null,
            "height": null,
            "justify_content": null,
            "justify_items": null,
            "left": null,
            "margin": null,
            "max_height": null,
            "max_width": null,
            "min_height": null,
            "min_width": null,
            "object_fit": null,
            "object_position": null,
            "order": null,
            "overflow": null,
            "overflow_x": null,
            "overflow_y": null,
            "padding": null,
            "right": null,
            "top": null,
            "visibility": null,
            "width": null
          }
        },
        "fb898187f4bd4197b15ee01dee000ed6": {
          "model_module": "@jupyter-widgets/controls",
          "model_name": "ProgressStyleModel",
          "model_module_version": "1.5.0",
          "state": {
            "_model_module": "@jupyter-widgets/controls",
            "_model_module_version": "1.5.0",
            "_model_name": "ProgressStyleModel",
            "_view_count": null,
            "_view_module": "@jupyter-widgets/base",
            "_view_module_version": "1.2.0",
            "_view_name": "StyleView",
            "bar_color": null,
            "description_width": ""
          }
        },
        "00f0e8c0b3324dd481f6c8cf39da1c92": {
          "model_module": "@jupyter-widgets/base",
          "model_name": "LayoutModel",
          "model_module_version": "1.2.0",
          "state": {
            "_model_module": "@jupyter-widgets/base",
            "_model_module_version": "1.2.0",
            "_model_name": "LayoutModel",
            "_view_count": null,
            "_view_module": "@jupyter-widgets/base",
            "_view_module_version": "1.2.0",
            "_view_name": "LayoutView",
            "align_content": null,
            "align_items": null,
            "align_self": null,
            "border": null,
            "bottom": null,
            "display": null,
            "flex": null,
            "flex_flow": null,
            "grid_area": null,
            "grid_auto_columns": null,
            "grid_auto_flow": null,
            "grid_auto_rows": null,
            "grid_column": null,
            "grid_gap": null,
            "grid_row": null,
            "grid_template_areas": null,
            "grid_template_columns": null,
            "grid_template_rows": null,
            "height": null,
            "justify_content": null,
            "justify_items": null,
            "left": null,
            "margin": null,
            "max_height": null,
            "max_width": null,
            "min_height": null,
            "min_width": null,
            "object_fit": null,
            "object_position": null,
            "order": null,
            "overflow": null,
            "overflow_x": null,
            "overflow_y": null,
            "padding": null,
            "right": null,
            "top": null,
            "visibility": null,
            "width": null
          }
        },
        "e97016b1b6f343b482f108e7e0f42e4e": {
          "model_module": "@jupyter-widgets/controls",
          "model_name": "DescriptionStyleModel",
          "model_module_version": "1.5.0",
          "state": {
            "_model_module": "@jupyter-widgets/controls",
            "_model_module_version": "1.5.0",
            "_model_name": "DescriptionStyleModel",
            "_view_count": null,
            "_view_module": "@jupyter-widgets/base",
            "_view_module_version": "1.2.0",
            "_view_name": "StyleView",
            "description_width": ""
          }
        }
      }
    }
  },
  "cells": [
    {
      "cell_type": "markdown",
      "metadata": {
        "id": "view-in-github",
        "colab_type": "text"
      },
      "source": [
        "<a href=\"https://colab.research.google.com/github/subhashjprasad/machine-learning-projects/blob/main/resumeClassifier.ipynb\" target=\"_parent\"><img src=\"https://colab.research.google.com/assets/colab-badge.svg\" alt=\"Open In Colab\"/></a>"
      ]
    },
    {
      "cell_type": "markdown",
      "source": [
        "Preparing Data"
      ],
      "metadata": {
        "id": "HXi2RWmsLOt_"
      }
    },
    {
      "cell_type": "code",
      "source": [
        "import pandas as pd\n",
        "import datasets\n",
        "from datasets import Dataset, DatasetDict"
      ],
      "metadata": {
        "id": "d51AyRD1qtVb"
      },
      "execution_count": 1,
      "outputs": []
    },
    {
      "cell_type": "code",
      "source": [
        "!pip install -q transformers datasets"
      ],
      "metadata": {
        "id": "PT_J76NysvMw"
      },
      "execution_count": 2,
      "outputs": []
    },
    {
      "cell_type": "code",
      "source": [
        "resume_data = pd.read_csv(\"Resume.csv\")\n",
        "\n",
        "resume_data.head()"
      ],
      "metadata": {
        "colab": {
          "base_uri": "https://localhost:8080/",
          "height": 206
        },
        "id": "EQhRaXzIqveb",
        "outputId": "ddc6a2a2-a352-4d15-9441-f971d9da5c0b"
      },
      "execution_count": 3,
      "outputs": [
        {
          "output_type": "execute_result",
          "data": {
            "text/plain": [
              "         ID                                         Resume_str  \\\n",
              "0  16852973           HR ADMINISTRATOR/MARKETING ASSOCIATE\\...   \n",
              "1  22323967           HR SPECIALIST, US HR OPERATIONS      ...   \n",
              "2  33176873           HR DIRECTOR       Summary      Over 2...   \n",
              "3  27018550           HR SPECIALIST       Summary    Dedica...   \n",
              "4  17812897           HR MANAGER         Skill Highlights  ...   \n",
              "\n",
              "                                         Resume_html Category  \n",
              "0  <div class=\"fontsize fontface vmargins hmargin...       HR  \n",
              "1  <div class=\"fontsize fontface vmargins hmargin...       HR  \n",
              "2  <div class=\"fontsize fontface vmargins hmargin...       HR  \n",
              "3  <div class=\"fontsize fontface vmargins hmargin...       HR  \n",
              "4  <div class=\"fontsize fontface vmargins hmargin...       HR  "
            ],
            "text/html": [
              "\n",
              "  <div id=\"df-d645b6d5-f452-4193-91cf-d16c67bf7b49\" class=\"colab-df-container\">\n",
              "    <div>\n",
              "<style scoped>\n",
              "    .dataframe tbody tr th:only-of-type {\n",
              "        vertical-align: middle;\n",
              "    }\n",
              "\n",
              "    .dataframe tbody tr th {\n",
              "        vertical-align: top;\n",
              "    }\n",
              "\n",
              "    .dataframe thead th {\n",
              "        text-align: right;\n",
              "    }\n",
              "</style>\n",
              "<table border=\"1\" class=\"dataframe\">\n",
              "  <thead>\n",
              "    <tr style=\"text-align: right;\">\n",
              "      <th></th>\n",
              "      <th>ID</th>\n",
              "      <th>Resume_str</th>\n",
              "      <th>Resume_html</th>\n",
              "      <th>Category</th>\n",
              "    </tr>\n",
              "  </thead>\n",
              "  <tbody>\n",
              "    <tr>\n",
              "      <th>0</th>\n",
              "      <td>16852973</td>\n",
              "      <td>HR ADMINISTRATOR/MARKETING ASSOCIATE\\...</td>\n",
              "      <td>&lt;div class=\"fontsize fontface vmargins hmargin...</td>\n",
              "      <td>HR</td>\n",
              "    </tr>\n",
              "    <tr>\n",
              "      <th>1</th>\n",
              "      <td>22323967</td>\n",
              "      <td>HR SPECIALIST, US HR OPERATIONS      ...</td>\n",
              "      <td>&lt;div class=\"fontsize fontface vmargins hmargin...</td>\n",
              "      <td>HR</td>\n",
              "    </tr>\n",
              "    <tr>\n",
              "      <th>2</th>\n",
              "      <td>33176873</td>\n",
              "      <td>HR DIRECTOR       Summary      Over 2...</td>\n",
              "      <td>&lt;div class=\"fontsize fontface vmargins hmargin...</td>\n",
              "      <td>HR</td>\n",
              "    </tr>\n",
              "    <tr>\n",
              "      <th>3</th>\n",
              "      <td>27018550</td>\n",
              "      <td>HR SPECIALIST       Summary    Dedica...</td>\n",
              "      <td>&lt;div class=\"fontsize fontface vmargins hmargin...</td>\n",
              "      <td>HR</td>\n",
              "    </tr>\n",
              "    <tr>\n",
              "      <th>4</th>\n",
              "      <td>17812897</td>\n",
              "      <td>HR MANAGER         Skill Highlights  ...</td>\n",
              "      <td>&lt;div class=\"fontsize fontface vmargins hmargin...</td>\n",
              "      <td>HR</td>\n",
              "    </tr>\n",
              "  </tbody>\n",
              "</table>\n",
              "</div>\n",
              "    <div class=\"colab-df-buttons\">\n",
              "\n",
              "  <div class=\"colab-df-container\">\n",
              "    <button class=\"colab-df-convert\" onclick=\"convertToInteractive('df-d645b6d5-f452-4193-91cf-d16c67bf7b49')\"\n",
              "            title=\"Convert this dataframe to an interactive table.\"\n",
              "            style=\"display:none;\">\n",
              "\n",
              "  <svg xmlns=\"http://www.w3.org/2000/svg\" height=\"24px\" viewBox=\"0 -960 960 960\">\n",
              "    <path d=\"M120-120v-720h720v720H120Zm60-500h600v-160H180v160Zm220 220h160v-160H400v160Zm0 220h160v-160H400v160ZM180-400h160v-160H180v160Zm440 0h160v-160H620v160ZM180-180h160v-160H180v160Zm440 0h160v-160H620v160Z\"/>\n",
              "  </svg>\n",
              "    </button>\n",
              "\n",
              "  <style>\n",
              "    .colab-df-container {\n",
              "      display:flex;\n",
              "      gap: 12px;\n",
              "    }\n",
              "\n",
              "    .colab-df-convert {\n",
              "      background-color: #E8F0FE;\n",
              "      border: none;\n",
              "      border-radius: 50%;\n",
              "      cursor: pointer;\n",
              "      display: none;\n",
              "      fill: #1967D2;\n",
              "      height: 32px;\n",
              "      padding: 0 0 0 0;\n",
              "      width: 32px;\n",
              "    }\n",
              "\n",
              "    .colab-df-convert:hover {\n",
              "      background-color: #E2EBFA;\n",
              "      box-shadow: 0px 1px 2px rgba(60, 64, 67, 0.3), 0px 1px 3px 1px rgba(60, 64, 67, 0.15);\n",
              "      fill: #174EA6;\n",
              "    }\n",
              "\n",
              "    .colab-df-buttons div {\n",
              "      margin-bottom: 4px;\n",
              "    }\n",
              "\n",
              "    [theme=dark] .colab-df-convert {\n",
              "      background-color: #3B4455;\n",
              "      fill: #D2E3FC;\n",
              "    }\n",
              "\n",
              "    [theme=dark] .colab-df-convert:hover {\n",
              "      background-color: #434B5C;\n",
              "      box-shadow: 0px 1px 3px 1px rgba(0, 0, 0, 0.15);\n",
              "      filter: drop-shadow(0px 1px 2px rgba(0, 0, 0, 0.3));\n",
              "      fill: #FFFFFF;\n",
              "    }\n",
              "  </style>\n",
              "\n",
              "    <script>\n",
              "      const buttonEl =\n",
              "        document.querySelector('#df-d645b6d5-f452-4193-91cf-d16c67bf7b49 button.colab-df-convert');\n",
              "      buttonEl.style.display =\n",
              "        google.colab.kernel.accessAllowed ? 'block' : 'none';\n",
              "\n",
              "      async function convertToInteractive(key) {\n",
              "        const element = document.querySelector('#df-d645b6d5-f452-4193-91cf-d16c67bf7b49');\n",
              "        const dataTable =\n",
              "          await google.colab.kernel.invokeFunction('convertToInteractive',\n",
              "                                                    [key], {});\n",
              "        if (!dataTable) return;\n",
              "\n",
              "        const docLinkHtml = 'Like what you see? Visit the ' +\n",
              "          '<a target=\"_blank\" href=https://colab.research.google.com/notebooks/data_table.ipynb>data table notebook</a>'\n",
              "          + ' to learn more about interactive tables.';\n",
              "        element.innerHTML = '';\n",
              "        dataTable['output_type'] = 'display_data';\n",
              "        await google.colab.output.renderOutput(dataTable, element);\n",
              "        const docLink = document.createElement('div');\n",
              "        docLink.innerHTML = docLinkHtml;\n",
              "        element.appendChild(docLink);\n",
              "      }\n",
              "    </script>\n",
              "  </div>\n",
              "\n",
              "\n",
              "<div id=\"df-d79bb569-25a9-43d7-8c52-d0caa66ec1aa\">\n",
              "  <button class=\"colab-df-quickchart\" onclick=\"quickchart('df-d79bb569-25a9-43d7-8c52-d0caa66ec1aa')\"\n",
              "            title=\"Suggest charts\"\n",
              "            style=\"display:none;\">\n",
              "\n",
              "<svg xmlns=\"http://www.w3.org/2000/svg\" height=\"24px\"viewBox=\"0 0 24 24\"\n",
              "     width=\"24px\">\n",
              "    <g>\n",
              "        <path d=\"M19 3H5c-1.1 0-2 .9-2 2v14c0 1.1.9 2 2 2h14c1.1 0 2-.9 2-2V5c0-1.1-.9-2-2-2zM9 17H7v-7h2v7zm4 0h-2V7h2v10zm4 0h-2v-4h2v4z\"/>\n",
              "    </g>\n",
              "</svg>\n",
              "  </button>\n",
              "\n",
              "<style>\n",
              "  .colab-df-quickchart {\n",
              "      --bg-color: #E8F0FE;\n",
              "      --fill-color: #1967D2;\n",
              "      --hover-bg-color: #E2EBFA;\n",
              "      --hover-fill-color: #174EA6;\n",
              "      --disabled-fill-color: #AAA;\n",
              "      --disabled-bg-color: #DDD;\n",
              "  }\n",
              "\n",
              "  [theme=dark] .colab-df-quickchart {\n",
              "      --bg-color: #3B4455;\n",
              "      --fill-color: #D2E3FC;\n",
              "      --hover-bg-color: #434B5C;\n",
              "      --hover-fill-color: #FFFFFF;\n",
              "      --disabled-bg-color: #3B4455;\n",
              "      --disabled-fill-color: #666;\n",
              "  }\n",
              "\n",
              "  .colab-df-quickchart {\n",
              "    background-color: var(--bg-color);\n",
              "    border: none;\n",
              "    border-radius: 50%;\n",
              "    cursor: pointer;\n",
              "    display: none;\n",
              "    fill: var(--fill-color);\n",
              "    height: 32px;\n",
              "    padding: 0;\n",
              "    width: 32px;\n",
              "  }\n",
              "\n",
              "  .colab-df-quickchart:hover {\n",
              "    background-color: var(--hover-bg-color);\n",
              "    box-shadow: 0 1px 2px rgba(60, 64, 67, 0.3), 0 1px 3px 1px rgba(60, 64, 67, 0.15);\n",
              "    fill: var(--button-hover-fill-color);\n",
              "  }\n",
              "\n",
              "  .colab-df-quickchart-complete:disabled,\n",
              "  .colab-df-quickchart-complete:disabled:hover {\n",
              "    background-color: var(--disabled-bg-color);\n",
              "    fill: var(--disabled-fill-color);\n",
              "    box-shadow: none;\n",
              "  }\n",
              "\n",
              "  .colab-df-spinner {\n",
              "    border: 2px solid var(--fill-color);\n",
              "    border-color: transparent;\n",
              "    border-bottom-color: var(--fill-color);\n",
              "    animation:\n",
              "      spin 1s steps(1) infinite;\n",
              "  }\n",
              "\n",
              "  @keyframes spin {\n",
              "    0% {\n",
              "      border-color: transparent;\n",
              "      border-bottom-color: var(--fill-color);\n",
              "      border-left-color: var(--fill-color);\n",
              "    }\n",
              "    20% {\n",
              "      border-color: transparent;\n",
              "      border-left-color: var(--fill-color);\n",
              "      border-top-color: var(--fill-color);\n",
              "    }\n",
              "    30% {\n",
              "      border-color: transparent;\n",
              "      border-left-color: var(--fill-color);\n",
              "      border-top-color: var(--fill-color);\n",
              "      border-right-color: var(--fill-color);\n",
              "    }\n",
              "    40% {\n",
              "      border-color: transparent;\n",
              "      border-right-color: var(--fill-color);\n",
              "      border-top-color: var(--fill-color);\n",
              "    }\n",
              "    60% {\n",
              "      border-color: transparent;\n",
              "      border-right-color: var(--fill-color);\n",
              "    }\n",
              "    80% {\n",
              "      border-color: transparent;\n",
              "      border-right-color: var(--fill-color);\n",
              "      border-bottom-color: var(--fill-color);\n",
              "    }\n",
              "    90% {\n",
              "      border-color: transparent;\n",
              "      border-bottom-color: var(--fill-color);\n",
              "    }\n",
              "  }\n",
              "</style>\n",
              "\n",
              "  <script>\n",
              "    async function quickchart(key) {\n",
              "      const quickchartButtonEl =\n",
              "        document.querySelector('#' + key + ' button');\n",
              "      quickchartButtonEl.disabled = true;  // To prevent multiple clicks.\n",
              "      quickchartButtonEl.classList.add('colab-df-spinner');\n",
              "      try {\n",
              "        const charts = await google.colab.kernel.invokeFunction(\n",
              "            'suggestCharts', [key], {});\n",
              "      } catch (error) {\n",
              "        console.error('Error during call to suggestCharts:', error);\n",
              "      }\n",
              "      quickchartButtonEl.classList.remove('colab-df-spinner');\n",
              "      quickchartButtonEl.classList.add('colab-df-quickchart-complete');\n",
              "    }\n",
              "    (() => {\n",
              "      let quickchartButtonEl =\n",
              "        document.querySelector('#df-d79bb569-25a9-43d7-8c52-d0caa66ec1aa button');\n",
              "      quickchartButtonEl.style.display =\n",
              "        google.colab.kernel.accessAllowed ? 'block' : 'none';\n",
              "    })();\n",
              "  </script>\n",
              "</div>\n",
              "\n",
              "    </div>\n",
              "  </div>\n"
            ]
          },
          "metadata": {},
          "execution_count": 3
        }
      ]
    },
    {
      "cell_type": "code",
      "source": [
        "resume_data = pd.DataFrame(resume_data)\n",
        "\n",
        "resume_data = resume_data.drop(columns = ['ID', 'Resume_html'])\n",
        "\n",
        "resume_data = pd.get_dummies(resume_data, columns = ['Category'])"
      ],
      "metadata": {
        "id": "gQzG2DsUvdAG"
      },
      "execution_count": 4,
      "outputs": []
    },
    {
      "cell_type": "code",
      "source": [
        "resume_data = Dataset.from_pandas(resume_data)\n",
        "\n",
        "train_testvalid = resume_data.train_test_split(test_size = 0.1)\n",
        "test_valid = train_testvalid['test'].train_test_split(test_size = 0.5)\n",
        "resume_dataset = DatasetDict({\n",
        "    'train': train_testvalid['train'],\n",
        "    'test': test_valid['test'],\n",
        "    'valid': test_valid['train']})"
      ],
      "metadata": {
        "id": "PKxpysd3tSnm"
      },
      "execution_count": 5,
      "outputs": []
    },
    {
      "cell_type": "code",
      "source": [
        "resume_dataset"
      ],
      "metadata": {
        "colab": {
          "base_uri": "https://localhost:8080/"
        },
        "id": "GC5ooU2YuFKb",
        "outputId": "28d3488c-2156-4a26-d7f1-7345eec84b7a"
      },
      "execution_count": 6,
      "outputs": [
        {
          "output_type": "execute_result",
          "data": {
            "text/plain": [
              "DatasetDict({\n",
              "    train: Dataset({\n",
              "        features: ['Resume_str', 'Category_ACCOUNTANT', 'Category_ADVOCATE', 'Category_AGRICULTURE', 'Category_APPAREL', 'Category_ARTS', 'Category_AUTOMOBILE', 'Category_AVIATION', 'Category_BANKING', 'Category_BPO', 'Category_BUSINESS-DEVELOPMENT', 'Category_CHEF', 'Category_CONSTRUCTION', 'Category_CONSULTANT', 'Category_DESIGNER', 'Category_DIGITAL-MEDIA', 'Category_ENGINEERING', 'Category_FINANCE', 'Category_FITNESS', 'Category_HEALTHCARE', 'Category_HR', 'Category_INFORMATION-TECHNOLOGY', 'Category_PUBLIC-RELATIONS', 'Category_SALES', 'Category_TEACHER'],\n",
              "        num_rows: 2235\n",
              "    })\n",
              "    test: Dataset({\n",
              "        features: ['Resume_str', 'Category_ACCOUNTANT', 'Category_ADVOCATE', 'Category_AGRICULTURE', 'Category_APPAREL', 'Category_ARTS', 'Category_AUTOMOBILE', 'Category_AVIATION', 'Category_BANKING', 'Category_BPO', 'Category_BUSINESS-DEVELOPMENT', 'Category_CHEF', 'Category_CONSTRUCTION', 'Category_CONSULTANT', 'Category_DESIGNER', 'Category_DIGITAL-MEDIA', 'Category_ENGINEERING', 'Category_FINANCE', 'Category_FITNESS', 'Category_HEALTHCARE', 'Category_HR', 'Category_INFORMATION-TECHNOLOGY', 'Category_PUBLIC-RELATIONS', 'Category_SALES', 'Category_TEACHER'],\n",
              "        num_rows: 125\n",
              "    })\n",
              "    valid: Dataset({\n",
              "        features: ['Resume_str', 'Category_ACCOUNTANT', 'Category_ADVOCATE', 'Category_AGRICULTURE', 'Category_APPAREL', 'Category_ARTS', 'Category_AUTOMOBILE', 'Category_AVIATION', 'Category_BANKING', 'Category_BPO', 'Category_BUSINESS-DEVELOPMENT', 'Category_CHEF', 'Category_CONSTRUCTION', 'Category_CONSULTANT', 'Category_DESIGNER', 'Category_DIGITAL-MEDIA', 'Category_ENGINEERING', 'Category_FINANCE', 'Category_FITNESS', 'Category_HEALTHCARE', 'Category_HR', 'Category_INFORMATION-TECHNOLOGY', 'Category_PUBLIC-RELATIONS', 'Category_SALES', 'Category_TEACHER'],\n",
              "        num_rows: 124\n",
              "    })\n",
              "})"
            ]
          },
          "metadata": {},
          "execution_count": 6
        }
      ]
    },
    {
      "cell_type": "code",
      "source": [
        "example = resume_dataset['train'][30]\n",
        "example"
      ],
      "metadata": {
        "colab": {
          "base_uri": "https://localhost:8080/"
        },
        "id": "FlWZGlVLuR-A",
        "outputId": "dd3deff2-65fc-45f6-e7f8-d8b0b628ee3b"
      },
      "execution_count": 75,
      "outputs": [
        {
          "output_type": "execute_result",
          "data": {
            "text/plain": [
              "{'Resume_str': \"         PROGRAM MANAGER       Professional Summary    Highly-motivated community service professional skilled at networking, media outreach and relationship development. Flexible and versatile team player who maintains a sense of humor under pressure.      Core Qualifications          Citizen engagement  Employee relations  Media relations  Inter-governmental and legislative affairs  Social media  Event planning and logistics  Public speaking  Copywriting and copyediting  Microsoft Word and Excel expertise  Strong communication skills              Experience     10/2015   to   08/2016     Program Manager    Company Name   －   City  ,   State      Contributed to relevant blogs, conferences and events both off-line and online to increase brand awareness.       Managed the complete redesign and launch of the company's website in  [Number]  months.       Created an official company page on Facebook to facilitate interaction with customers.       Managed all social media programs, including Internet forums, blogs, social networking applications and message boards.      Presented on current promotions to the public at events and tradeshows.      Wrote newsletter marketing copy and presentation materials for special projects.     Established effective working relationships with clients, government officials and media representatives.     Developed and implemented communication strategies and information programs.     Gathered and analyzed data on community needs and interests.     Developed and published a monthly citizen newsletter.       Organized public appearances, lectures, contests and exhibits to increase product awareness.     Designed web and other content, including monthly newsletters and promotional calendars.         Managed the editorial content, design and distribution of the external company newsletter.       Conferred with production, graphic design and web-design personnel to coordinate production of corporate communications materials.         Developed corporate communications strategies and programs, including project timelines.         Coached less experienced public relations staff members on corporate communications practices.         Proofread and reviewed all print and electronic content for correct grammar and adherence to house style.         Revised campaigns in response to feedback from the creative director, account team and clients.         Reviewed and edited colleagues' written work for grammar, tone, voice and creative quality.           Implemented SEO strategy, resulting in  [Number] % increase to website hits.         Used software to manage efficient delivery and track content drafts.           Communicated with designers, graphic producers, video editors and videographers to create cohesive company voice.           Researched industrial and technical information to quickly come up to speed with unfamiliar industries.           Maintained awareness of digital trends and new emerging technologies and platforms.             08/2011   to   Current     Office of State Representative Intern District Director      City  ,   State      Recruited, trained and supervised 8-12 new staff members, interns and volunteers each year.  Reviewed staff work and gave comprehensive and constructive feedback.  Developed a 28-page training manual for new interns and volunteers.  Developed training program for specific, assigned job tasks, including database management and constituent casework.  Drafted meeting agendas, supplied advance materials and executed follow-up for meetings and team conferences.  Planned and publicized events, including securing more than $150,000 in sponsorships.  Edited and distributed press releases and pitches to local and national media outlets, securing positive coverage in multiple publications.  Attended community meetings and forums to answer questions, address complaints and explain procedures.  Collaborated with community members to educate the public regarding issues such as constitutional amendments and newly enacted legislation.  Received and screened a high volume of internal and external communications, including email and mail.  Simplified topics such as healthcare, energy, government and technology through clear, concise and compelling writing.  Wrote newsletter copy and presentation materials for special projects.  Created and maintained spreadsheets using advanced Excel functions and calculations to develop reports and lists.         01/2012   to   05/2012     Intern    Company Name   －   City  ,   State      Identified customer needs through market research and analysis.  Tracked communication regarding clients using print and electronic media.          Education          Bachelorof Science  :   Public Relations    University of Texas at Austin          Public Relations            Bachelor of Journalism  :   Broadcast    University of Texas   －   City        Broadcast          Skills    Excellent interpersonal skills, Strong communication skills, concise, conferences, copyediting, Copywriting, clients, database management, email, Employee relations, Event planning, government, logistics, market research and analysis, materials, Media relations, meetings, Excel, mail, Microsoft Word, newsletter, page, press releases, problem solver, Public speaking, publications, Fast learner, Self-starter, spreadsheets   \",\n",
              " 'Category_ACCOUNTANT': 0,\n",
              " 'Category_ADVOCATE': 0,\n",
              " 'Category_AGRICULTURE': 0,\n",
              " 'Category_APPAREL': 0,\n",
              " 'Category_ARTS': 0,\n",
              " 'Category_AUTOMOBILE': 0,\n",
              " 'Category_AVIATION': 0,\n",
              " 'Category_BANKING': 0,\n",
              " 'Category_BPO': 0,\n",
              " 'Category_BUSINESS-DEVELOPMENT': 0,\n",
              " 'Category_CHEF': 0,\n",
              " 'Category_CONSTRUCTION': 0,\n",
              " 'Category_CONSULTANT': 0,\n",
              " 'Category_DESIGNER': 0,\n",
              " 'Category_DIGITAL-MEDIA': 0,\n",
              " 'Category_ENGINEERING': 0,\n",
              " 'Category_FINANCE': 0,\n",
              " 'Category_FITNESS': 0,\n",
              " 'Category_HEALTHCARE': 0,\n",
              " 'Category_HR': 0,\n",
              " 'Category_INFORMATION-TECHNOLOGY': 0,\n",
              " 'Category_PUBLIC-RELATIONS': 1,\n",
              " 'Category_SALES': 0,\n",
              " 'Category_TEACHER': 0}"
            ]
          },
          "metadata": {},
          "execution_count": 75
        }
      ]
    },
    {
      "cell_type": "code",
      "source": [
        "labels = [label for label in resume_dataset['train'].features.keys() if label not in ['Resume_str']]\n",
        "id2label = {idx:label for idx, label in enumerate(labels)}\n",
        "label2id = {label:idx for idx, label in enumerate(labels)}\n",
        "labels"
      ],
      "metadata": {
        "colab": {
          "base_uri": "https://localhost:8080/"
        },
        "id": "fesouct1ucny",
        "outputId": "e85c9518-1302-41d8-d512-a018bd01d5d6"
      },
      "execution_count": 8,
      "outputs": [
        {
          "output_type": "execute_result",
          "data": {
            "text/plain": [
              "['Category_ACCOUNTANT',\n",
              " 'Category_ADVOCATE',\n",
              " 'Category_AGRICULTURE',\n",
              " 'Category_APPAREL',\n",
              " 'Category_ARTS',\n",
              " 'Category_AUTOMOBILE',\n",
              " 'Category_AVIATION',\n",
              " 'Category_BANKING',\n",
              " 'Category_BPO',\n",
              " 'Category_BUSINESS-DEVELOPMENT',\n",
              " 'Category_CHEF',\n",
              " 'Category_CONSTRUCTION',\n",
              " 'Category_CONSULTANT',\n",
              " 'Category_DESIGNER',\n",
              " 'Category_DIGITAL-MEDIA',\n",
              " 'Category_ENGINEERING',\n",
              " 'Category_FINANCE',\n",
              " 'Category_FITNESS',\n",
              " 'Category_HEALTHCARE',\n",
              " 'Category_HR',\n",
              " 'Category_INFORMATION-TECHNOLOGY',\n",
              " 'Category_PUBLIC-RELATIONS',\n",
              " 'Category_SALES',\n",
              " 'Category_TEACHER']"
            ]
          },
          "metadata": {},
          "execution_count": 8
        }
      ]
    },
    {
      "cell_type": "markdown",
      "source": [
        "Preprocessing Data"
      ],
      "metadata": {
        "id": "bPXVSHX8yowL"
      }
    },
    {
      "cell_type": "code",
      "source": [
        "from transformers import AutoTokenizer\n",
        "import numpy as np\n",
        "\n",
        "tokenizer = AutoTokenizer.from_pretrained(\"bert-base-uncased\")\n",
        "\n",
        "def preprocess_data(examples):\n",
        "  # take a batch of texts\n",
        "  text = examples[\"Resume_str\"]\n",
        "  # encode them\n",
        "  encoding = tokenizer(text, padding=\"max_length\", truncation=True, max_length = 512)\n",
        "  # add labels\n",
        "  labels_batch = {k: examples[k] for k in examples.keys() if k in labels}\n",
        "  # create numpy array of shape (batch_size, num_labels)\n",
        "  labels_matrix = np.zeros((len(text), len(labels)))\n",
        "  # fill numpy array\n",
        "  for idx, label in enumerate(labels):\n",
        "    labels_matrix[:, idx] = labels_batch[label]\n",
        "\n",
        "  encoding[\"labels\"] = labels_matrix.tolist()\n",
        "\n",
        "  return encoding"
      ],
      "metadata": {
        "colab": {
          "base_uri": "https://localhost:8080/"
        },
        "id": "3g_Ehz9KyqNa",
        "outputId": "76776b8d-3423-4274-d430-30e9591258a9"
      },
      "execution_count": 9,
      "outputs": [
        {
          "output_type": "stream",
          "name": "stderr",
          "text": [
            "/usr/local/lib/python3.10/dist-packages/huggingface_hub/utils/_token.py:72: UserWarning: \n",
            "The secret `HF_TOKEN` does not exist in your Colab secrets.\n",
            "To authenticate with the Hugging Face Hub, create a token in your settings tab (https://huggingface.co/settings/tokens), set it as secret in your Google Colab and restart your session.\n",
            "You will be able to reuse this secret in all of your notebooks.\n",
            "Please note that authentication is recommended but still optional to access public models or datasets.\n",
            "  warnings.warn(\n"
          ]
        }
      ]
    },
    {
      "cell_type": "code",
      "source": [
        "encoded_dataset = resume_dataset.map(preprocess_data, batched=True, remove_columns = resume_dataset['train'].column_names)"
      ],
      "metadata": {
        "colab": {
          "base_uri": "https://localhost:8080/",
          "height": 113,
          "referenced_widgets": [
            "66b70ec946f042d9803c34a32051e392",
            "7a238038d4ae400a8515bcf6eed8e752",
            "a1c822bab3904a56a3cc15b47f56792d",
            "26f992c8b2d14c6ea2b238cef7d31735",
            "441565b3cb264947ad58ded8a70def25",
            "5eb90737957f4db3a4a3cd0c89e7c98c",
            "a4bf8d7f90d74286a9ab312909b0e247",
            "c1d4983eabe74fb7b1ebf86f74e2acdc",
            "0781e48d215b4afdac383231bfb442b9",
            "28ae9a476f9746e9a027c82b41d9e51a",
            "d38344210ab94dc184b9c82589341721",
            "0890cde218374c1680746cf6a5d0d368",
            "332897eeaf0c49b9a7cee29f0b18e4c6",
            "47e39b735763450087ff557e7deb8b5d",
            "59bca66d8c1b492fa1021749d41f0552",
            "21b8da441f7a4fc69cf9d668b40e7993",
            "3303f5ab27854ad692ca894e69c79cee",
            "d5ecf1261d694af4835e469897141895",
            "8123c9c87cc5490395b87726470991d1",
            "f755ca00d30f47b4ab9d126ff7e35f82",
            "a6dba8dcfde247b180ccaf48d96b8621",
            "818e9db0389641389da98cb89dc4bfac",
            "a06be00a38b64d388e98709a3fab2326",
            "f16ff4632c794b298ca9d54fbb519d7f",
            "52b65467c83749eeac6a69d45b187eda",
            "34628ba003e54f96824bbe1772dd5fa8",
            "d11194794b9f4c8b8031eed9e90bb686",
            "ae9f0bed1a284d3f88111930ef7acc5c",
            "068cb76b9a354ef8be9877b0985d33d1",
            "cd7c7e070e4247f9a5c3581e625a57a1",
            "fb898187f4bd4197b15ee01dee000ed6",
            "00f0e8c0b3324dd481f6c8cf39da1c92",
            "e97016b1b6f343b482f108e7e0f42e4e"
          ]
        },
        "id": "ypV4I-y_zMaK",
        "outputId": "2831c817-ccfc-401b-dbe2-56a49f844e37"
      },
      "execution_count": 10,
      "outputs": [
        {
          "output_type": "display_data",
          "data": {
            "text/plain": [
              "Map:   0%|          | 0/2235 [00:00<?, ? examples/s]"
            ],
            "application/vnd.jupyter.widget-view+json": {
              "version_major": 2,
              "version_minor": 0,
              "model_id": "66b70ec946f042d9803c34a32051e392"
            }
          },
          "metadata": {}
        },
        {
          "output_type": "display_data",
          "data": {
            "text/plain": [
              "Map:   0%|          | 0/125 [00:00<?, ? examples/s]"
            ],
            "application/vnd.jupyter.widget-view+json": {
              "version_major": 2,
              "version_minor": 0,
              "model_id": "0890cde218374c1680746cf6a5d0d368"
            }
          },
          "metadata": {}
        },
        {
          "output_type": "display_data",
          "data": {
            "text/plain": [
              "Map:   0%|          | 0/124 [00:00<?, ? examples/s]"
            ],
            "application/vnd.jupyter.widget-view+json": {
              "version_major": 2,
              "version_minor": 0,
              "model_id": "a06be00a38b64d388e98709a3fab2326"
            }
          },
          "metadata": {}
        }
      ]
    },
    {
      "cell_type": "code",
      "source": [
        "example = encoded_dataset['train'][0]\n",
        "print(example.keys())"
      ],
      "metadata": {
        "colab": {
          "base_uri": "https://localhost:8080/"
        },
        "id": "QPvI2MaGzXLB",
        "outputId": "168a0786-9405-41d5-adb3-099565bafe34"
      },
      "execution_count": 11,
      "outputs": [
        {
          "output_type": "stream",
          "name": "stdout",
          "text": [
            "dict_keys(['input_ids', 'token_type_ids', 'attention_mask', 'labels'])\n"
          ]
        }
      ]
    },
    {
      "cell_type": "code",
      "source": [
        "tokenizer.decode(example['input_ids'])"
      ],
      "metadata": {
        "colab": {
          "base_uri": "https://localhost:8080/",
          "height": 179
        },
        "id": "13ln1g39zZRF",
        "outputId": "e7111d42-3140-4136-c140-43ab272b2c3a"
      },
      "execution_count": 12,
      "outputs": [
        {
          "output_type": "execute_result",
          "data": {
            "text/plain": [
              "'[CLS] sales summary to obtain a position where i can utilize my skills and work in an environment that will enhance my knowledge and career. great organization and communication skills that will aid in excellent customer service and satisfaction. highlights bi - lingual multi - line system expert superior communication skills data entry claims expert install coordinator proficient in ordering materials payroll cheerful and energetic effective team player superior organization skills dependable and reliable goal oriented self motivated experience sales 03 / 2016 to current company name city, state managing job after sale to completion of install handling claims invoices ordering material exchanges and returns track down custom orders to make sure they arrive on time up - selling customers on special materialsmanaged wide variety of customer services and administrative tasks to resolve customer issues quickly and efficiently install sales coordinator 03 / 2014 to 03 / 2016 company name city, state managing job after sale to completion of install handling claims invoices installer payroll ordering material exchanges and returns track down custom orders to make sure they arrive on time up - selling customers on special materials managed wide variety of customer services and administrative tasks to resolve customer issues quickly and efficiently keyholder / sales associate / copy center supervisor 03 / 2008 to 12 / 2013 company name city, state open / close the store in place of manager. handle customer \" issues \" in a professional manner. match customers with the absolute best solution to meet their needs. complete customer orders in a timely manner. manage & help all departments of the store reach an exceed sales budgets & goals. train all new associates in correct policy and procedure. prepare deposit for previous day of business. cashier / customer services 01 / 2006 to 03 / 2014 company name city, state responsibilities customer service. meet & exceed sales goals. help customer find solutions for his / her business or home. re - stock and clean front end at the end of shift. skills bi - lingual excellent communication skills outstanding people skills creative, insightful, innovative, assertive leadership - result oriented and goals achiever efficient under pressure proficient phone skills education business, freshman truckee meadows community college city, state business, freshman high school diploma 2007 west high school city, state [SEP] [PAD] [PAD] [PAD] [PAD] [PAD] [PAD] [PAD] [PAD] [PAD] [PAD] [PAD] [PAD] [PAD] [PAD] [PAD] [PAD] [PAD] [PAD] [PAD] [PAD] [PAD] [PAD] [PAD] [PAD] [PAD] [PAD] [PAD] [PAD] [PAD] [PAD] [PAD] [PAD] [PAD] [PAD] [PAD] [PAD] [PAD] [PAD] [PAD] [PAD] [PAD] [PAD] [PAD] [PAD] [PAD] [PAD] [PAD] [PAD] [PAD] [PAD] [PAD] [PAD] [PAD] [PAD] [PAD] [PAD] [PAD] [PAD] [PAD] [PAD] [PAD] [PAD] [PAD] [PAD] [PAD] [PAD] [PAD] [PAD] [PAD] [PAD] [PAD] [PAD] [PAD] [PAD] [PAD] [PAD] [PAD] [PAD] [PAD] [PAD] [PAD] [PAD] [PAD] [PAD] [PAD] [PAD] [PAD] [PAD]'"
            ],
            "application/vnd.google.colaboratory.intrinsic+json": {
              "type": "string"
            }
          },
          "metadata": {},
          "execution_count": 12
        }
      ]
    },
    {
      "cell_type": "code",
      "source": [
        "example['labels']"
      ],
      "metadata": {
        "colab": {
          "base_uri": "https://localhost:8080/"
        },
        "id": "FcjDGSOBzprO",
        "outputId": "d7940cc2-4dfe-4873-e9bb-0857f24304c2"
      },
      "execution_count": 13,
      "outputs": [
        {
          "output_type": "execute_result",
          "data": {
            "text/plain": [
              "[0.0,\n",
              " 0.0,\n",
              " 0.0,\n",
              " 0.0,\n",
              " 0.0,\n",
              " 0.0,\n",
              " 0.0,\n",
              " 0.0,\n",
              " 0.0,\n",
              " 0.0,\n",
              " 0.0,\n",
              " 0.0,\n",
              " 0.0,\n",
              " 0.0,\n",
              " 0.0,\n",
              " 0.0,\n",
              " 0.0,\n",
              " 0.0,\n",
              " 0.0,\n",
              " 0.0,\n",
              " 0.0,\n",
              " 0.0,\n",
              " 1.0,\n",
              " 0.0]"
            ]
          },
          "metadata": {},
          "execution_count": 13
        }
      ]
    },
    {
      "cell_type": "code",
      "source": [
        "[id2label[idx] for idx, label in enumerate(example['labels']) if label == 1.0]"
      ],
      "metadata": {
        "colab": {
          "base_uri": "https://localhost:8080/"
        },
        "id": "_sCDTHULzwMc",
        "outputId": "2d401151-52e6-4f1a-ed28-67ef8e91a12d"
      },
      "execution_count": 14,
      "outputs": [
        {
          "output_type": "execute_result",
          "data": {
            "text/plain": [
              "['Category_SALES']"
            ]
          },
          "metadata": {},
          "execution_count": 14
        }
      ]
    },
    {
      "cell_type": "code",
      "source": [
        "encoded_dataset.set_format(\"torch\")"
      ],
      "metadata": {
        "id": "KcvxQ6ECz0Ul"
      },
      "execution_count": 15,
      "outputs": []
    },
    {
      "cell_type": "markdown",
      "source": [
        "Defining and Training Model"
      ],
      "metadata": {
        "id": "X2ruxiB2z1it"
      }
    },
    {
      "cell_type": "code",
      "source": [
        "from transformers import AutoModelForSequenceClassification\n",
        "\n",
        "model = AutoModelForSequenceClassification.from_pretrained(\"bert-base-uncased\",\n",
        "                                                           problem_type=\"multi_label_classification\",\n",
        "                                                           num_labels=len(labels),\n",
        "                                                           id2label=id2label,\n",
        "                                                           label2id=label2id)"
      ],
      "metadata": {
        "colab": {
          "base_uri": "https://localhost:8080/"
        },
        "id": "B8pIx7Lxz3Dm",
        "outputId": "63598237-f951-41f3-94fa-e46264a41445"
      },
      "execution_count": 16,
      "outputs": [
        {
          "output_type": "stream",
          "name": "stderr",
          "text": [
            "/usr/local/lib/python3.10/dist-packages/huggingface_hub/utils/_token.py:72: UserWarning: \n",
            "The secret `HF_TOKEN` does not exist in your Colab secrets.\n",
            "To authenticate with the Hugging Face Hub, create a token in your settings tab (https://huggingface.co/settings/tokens), set it as secret in your Google Colab and restart your session.\n",
            "You will be able to reuse this secret in all of your notebooks.\n",
            "Please note that authentication is recommended but still optional to access public models or datasets.\n",
            "  warnings.warn(\n",
            "Some weights of BertForSequenceClassification were not initialized from the model checkpoint at bert-base-uncased and are newly initialized: ['classifier.weight', 'classifier.bias']\n",
            "You should probably TRAIN this model on a down-stream task to be able to use it for predictions and inference.\n"
          ]
        }
      ]
    },
    {
      "cell_type": "code",
      "source": [
        "batch_size = 8\n",
        "metric_name = \"f1\""
      ],
      "metadata": {
        "id": "nIiV1qqgz-Jy"
      },
      "execution_count": 17,
      "outputs": []
    },
    {
      "cell_type": "code",
      "source": [
        "!pip install -U accelerate\n",
        "!pip install -U transformers"
      ],
      "metadata": {
        "colab": {
          "base_uri": "https://localhost:8080/"
        },
        "id": "JYwnB7QZz_qt",
        "outputId": "9131eb28-cc75-44ff-b305-160836b0177f"
      },
      "execution_count": 18,
      "outputs": [
        {
          "output_type": "stream",
          "name": "stdout",
          "text": [
            "Requirement already satisfied: accelerate in /usr/local/lib/python3.10/dist-packages (0.25.0)\n",
            "Requirement already satisfied: numpy>=1.17 in /usr/local/lib/python3.10/dist-packages (from accelerate) (1.23.5)\n",
            "Requirement already satisfied: packaging>=20.0 in /usr/local/lib/python3.10/dist-packages (from accelerate) (23.2)\n",
            "Requirement already satisfied: psutil in /usr/local/lib/python3.10/dist-packages (from accelerate) (5.9.5)\n",
            "Requirement already satisfied: pyyaml in /usr/local/lib/python3.10/dist-packages (from accelerate) (6.0.1)\n",
            "Requirement already satisfied: torch>=1.10.0 in /usr/local/lib/python3.10/dist-packages (from accelerate) (2.1.0+cu121)\n",
            "Requirement already satisfied: huggingface-hub in /usr/local/lib/python3.10/dist-packages (from accelerate) (0.20.1)\n",
            "Requirement already satisfied: safetensors>=0.3.1 in /usr/local/lib/python3.10/dist-packages (from accelerate) (0.4.1)\n",
            "Requirement already satisfied: filelock in /usr/local/lib/python3.10/dist-packages (from torch>=1.10.0->accelerate) (3.13.1)\n",
            "Requirement already satisfied: typing-extensions in /usr/local/lib/python3.10/dist-packages (from torch>=1.10.0->accelerate) (4.5.0)\n",
            "Requirement already satisfied: sympy in /usr/local/lib/python3.10/dist-packages (from torch>=1.10.0->accelerate) (1.12)\n",
            "Requirement already satisfied: networkx in /usr/local/lib/python3.10/dist-packages (from torch>=1.10.0->accelerate) (3.2.1)\n",
            "Requirement already satisfied: jinja2 in /usr/local/lib/python3.10/dist-packages (from torch>=1.10.0->accelerate) (3.1.2)\n",
            "Requirement already satisfied: fsspec in /usr/local/lib/python3.10/dist-packages (from torch>=1.10.0->accelerate) (2023.6.0)\n",
            "Requirement already satisfied: triton==2.1.0 in /usr/local/lib/python3.10/dist-packages (from torch>=1.10.0->accelerate) (2.1.0)\n",
            "Requirement already satisfied: requests in /usr/local/lib/python3.10/dist-packages (from huggingface-hub->accelerate) (2.31.0)\n",
            "Requirement already satisfied: tqdm>=4.42.1 in /usr/local/lib/python3.10/dist-packages (from huggingface-hub->accelerate) (4.66.1)\n",
            "Requirement already satisfied: MarkupSafe>=2.0 in /usr/local/lib/python3.10/dist-packages (from jinja2->torch>=1.10.0->accelerate) (2.1.3)\n",
            "Requirement already satisfied: charset-normalizer<4,>=2 in /usr/local/lib/python3.10/dist-packages (from requests->huggingface-hub->accelerate) (3.3.2)\n",
            "Requirement already satisfied: idna<4,>=2.5 in /usr/local/lib/python3.10/dist-packages (from requests->huggingface-hub->accelerate) (3.6)\n",
            "Requirement already satisfied: urllib3<3,>=1.21.1 in /usr/local/lib/python3.10/dist-packages (from requests->huggingface-hub->accelerate) (2.0.7)\n",
            "Requirement already satisfied: certifi>=2017.4.17 in /usr/local/lib/python3.10/dist-packages (from requests->huggingface-hub->accelerate) (2023.11.17)\n",
            "Requirement already satisfied: mpmath>=0.19 in /usr/local/lib/python3.10/dist-packages (from sympy->torch>=1.10.0->accelerate) (1.3.0)\n",
            "Requirement already satisfied: transformers in /usr/local/lib/python3.10/dist-packages (4.36.2)\n",
            "Requirement already satisfied: filelock in /usr/local/lib/python3.10/dist-packages (from transformers) (3.13.1)\n",
            "Requirement already satisfied: huggingface-hub<1.0,>=0.19.3 in /usr/local/lib/python3.10/dist-packages (from transformers) (0.20.1)\n",
            "Requirement already satisfied: numpy>=1.17 in /usr/local/lib/python3.10/dist-packages (from transformers) (1.23.5)\n",
            "Requirement already satisfied: packaging>=20.0 in /usr/local/lib/python3.10/dist-packages (from transformers) (23.2)\n",
            "Requirement already satisfied: pyyaml>=5.1 in /usr/local/lib/python3.10/dist-packages (from transformers) (6.0.1)\n",
            "Requirement already satisfied: regex!=2019.12.17 in /usr/local/lib/python3.10/dist-packages (from transformers) (2023.6.3)\n",
            "Requirement already satisfied: requests in /usr/local/lib/python3.10/dist-packages (from transformers) (2.31.0)\n",
            "Requirement already satisfied: tokenizers<0.19,>=0.14 in /usr/local/lib/python3.10/dist-packages (from transformers) (0.15.0)\n",
            "Requirement already satisfied: safetensors>=0.3.1 in /usr/local/lib/python3.10/dist-packages (from transformers) (0.4.1)\n",
            "Requirement already satisfied: tqdm>=4.27 in /usr/local/lib/python3.10/dist-packages (from transformers) (4.66.1)\n",
            "Requirement already satisfied: fsspec>=2023.5.0 in /usr/local/lib/python3.10/dist-packages (from huggingface-hub<1.0,>=0.19.3->transformers) (2023.6.0)\n",
            "Requirement already satisfied: typing-extensions>=3.7.4.3 in /usr/local/lib/python3.10/dist-packages (from huggingface-hub<1.0,>=0.19.3->transformers) (4.5.0)\n",
            "Requirement already satisfied: charset-normalizer<4,>=2 in /usr/local/lib/python3.10/dist-packages (from requests->transformers) (3.3.2)\n",
            "Requirement already satisfied: idna<4,>=2.5 in /usr/local/lib/python3.10/dist-packages (from requests->transformers) (3.6)\n",
            "Requirement already satisfied: urllib3<3,>=1.21.1 in /usr/local/lib/python3.10/dist-packages (from requests->transformers) (2.0.7)\n",
            "Requirement already satisfied: certifi>=2017.4.17 in /usr/local/lib/python3.10/dist-packages (from requests->transformers) (2023.11.17)\n"
          ]
        }
      ]
    },
    {
      "cell_type": "code",
      "source": [
        "from transformers import TrainingArguments, Trainer\n",
        "\n",
        "args = TrainingArguments(\n",
        "    f\"bert-finetuned-sem_eval-english\",\n",
        "    evaluation_strategy = \"epoch\",\n",
        "    save_strategy = \"epoch\",\n",
        "    learning_rate=2e-5,\n",
        "    per_device_train_batch_size=batch_size,\n",
        "    per_device_eval_batch_size=batch_size,\n",
        "    num_train_epochs=5,\n",
        "    weight_decay=0.01,\n",
        "    load_best_model_at_end=True,\n",
        "    metric_for_best_model=metric_name,\n",
        "    #push_to_hub=True,\n",
        ")"
      ],
      "metadata": {
        "id": "L5KTNnsj0Bpk"
      },
      "execution_count": 19,
      "outputs": []
    },
    {
      "cell_type": "code",
      "source": [
        "from sklearn.metrics import f1_score, roc_auc_score, accuracy_score\n",
        "from transformers import EvalPrediction\n",
        "import torch\n",
        "\n",
        "# source: https://jesusleal.io/2021/04/21/Longformer-multilabel-classification/\n",
        "def multi_label_metrics(predictions, labels, threshold=0.5):\n",
        "    # first, apply sigmoid on predictions which are of shape (batch_size, num_labels)\n",
        "    sigmoid = torch.nn.Sigmoid()\n",
        "    probs = sigmoid(torch.Tensor(predictions))\n",
        "    # next, use threshold to turn them into integer predictions\n",
        "    y_pred = np.zeros(probs.shape)\n",
        "    y_pred[np.where(probs >= threshold)] = 1\n",
        "    # finally, compute metrics\n",
        "    y_true = labels\n",
        "    f1_micro_average = f1_score(y_true=y_true, y_pred=y_pred, average='micro')\n",
        "    roc_auc = roc_auc_score(y_true, y_pred, average = 'micro')\n",
        "    accuracy = accuracy_score(y_true, y_pred)\n",
        "    # return as dictionary\n",
        "    metrics = {'f1': f1_micro_average,\n",
        "               'roc_auc': roc_auc,\n",
        "               'accuracy': accuracy}\n",
        "    return metrics\n",
        "\n",
        "def compute_metrics(p: EvalPrediction):\n",
        "    preds = p.predictions[0] if isinstance(p.predictions,\n",
        "            tuple) else p.predictions\n",
        "    result = multi_label_metrics(\n",
        "        predictions=preds,\n",
        "        labels=p.label_ids)\n",
        "    return result"
      ],
      "metadata": {
        "id": "vu0g_djO0PGT"
      },
      "execution_count": 20,
      "outputs": []
    },
    {
      "cell_type": "code",
      "source": [
        "encoded_dataset['train'][0]['labels'].type()"
      ],
      "metadata": {
        "colab": {
          "base_uri": "https://localhost:8080/",
          "height": 36
        },
        "id": "ti9D3HlC0bMF",
        "outputId": "2acfb2ce-d527-441e-9af2-1473af4c9cc4"
      },
      "execution_count": 21,
      "outputs": [
        {
          "output_type": "execute_result",
          "data": {
            "text/plain": [
              "'torch.FloatTensor'"
            ],
            "application/vnd.google.colaboratory.intrinsic+json": {
              "type": "string"
            }
          },
          "metadata": {},
          "execution_count": 21
        }
      ]
    },
    {
      "cell_type": "code",
      "source": [
        "encoded_dataset['train']['input_ids'][0]"
      ],
      "metadata": {
        "colab": {
          "base_uri": "https://localhost:8080/"
        },
        "id": "fymeVOcg0c6a",
        "outputId": "b87711da-c1c0-4e95-b168-8d8229b97642"
      },
      "execution_count": 22,
      "outputs": [
        {
          "output_type": "execute_result",
          "data": {
            "text/plain": [
              "tensor([  101,  4341, 12654,  2000,  6855,  1037,  2597,  2073,  1045,  2064,\n",
              "        16462,  2026,  4813,  1998,  2147,  1999,  2019,  4044,  2008,  2097,\n",
              "        11598,  2026,  3716,  1998,  2476,  1012,  2307,  3029,  1998,  4807,\n",
              "         4813,  2008,  2097,  4681,  1999,  6581,  8013,  2326,  1998,  9967,\n",
              "         1012, 11637, 12170,  1011, 17002,  8787,  4800,  1011,  2240,  2291,\n",
              "         6739,  6020,  4807,  4813,  2951,  4443,  4447,  6739, 16500, 10669,\n",
              "        27029,  1999, 13063,  4475, 26854, 18350,  1998, 18114,  4621,  2136,\n",
              "         2447,  6020,  3029,  4813, 12530,  3085,  1998, 10539,  3125,  8048,\n",
              "         2969, 12774,  3325,  4341,  6021,  1013,  2355,  2000,  2783,  2194,\n",
              "         2171,  2103,  1010,  2110,  6605,  3105,  2044,  5096,  2000,  6503,\n",
              "         1997, 16500,  8304,  4447,  1999,  6767, 23522, 13063,  3430, 15800,\n",
              "         1998,  5651,  2650,  2091,  7661,  4449,  2000,  2191,  2469,  2027,\n",
              "         7180,  2006,  2051,  2039,  1011,  4855,  6304,  2006,  2569,  4475,\n",
              "        24805,  5999,  2898,  3528,  1997,  8013,  2578,  1998,  3831,  8518,\n",
              "         2000, 10663,  8013,  3314,  2855,  1998, 18228, 16500,  4341, 10669,\n",
              "         6021,  1013,  2297,  2000,  6021,  1013,  2355,  2194,  2171,  2103,\n",
              "         1010,  2110,  6605,  3105,  2044,  5096,  2000,  6503,  1997, 16500,\n",
              "         8304,  4447,  1999,  6767, 23522, 16500,  2121, 26854, 13063,  3430,\n",
              "        15800,  1998,  5651,  2650,  2091,  7661,  4449,  2000,  2191,  2469,\n",
              "         2027,  7180,  2006,  2051,  2039,  1011,  4855,  6304,  2006,  2569,\n",
              "         4475,  3266,  2898,  3528,  1997,  8013,  2578,  1998,  3831,  8518,\n",
              "         2000, 10663,  8013,  3314,  2855,  1998, 18228,  3145, 14528,  1013,\n",
              "         4341,  5482,  1013,  6100,  2415, 12366,  6021,  1013,  2263,  2000,\n",
              "         2260,  1013,  2286,  2194,  2171,  2103,  1010,  2110,  2330,  1013,\n",
              "         2485,  1996,  3573,  1999,  2173,  1997,  3208,  1012,  5047,  8013,\n",
              "         1000,  3314,  1000,  1999,  1037,  2658,  5450,  1012,  2674,  6304,\n",
              "         2007,  1996,  7619,  2190,  5576,  2000,  3113,  2037,  3791,  1012,\n",
              "         3143,  8013,  4449,  1999,  1037, 23259,  5450,  1012,  6133,  1004,\n",
              "         2393,  2035,  7640,  1997,  1996,  3573,  3362,  2019, 13467,  4341,\n",
              "        26178,  1004,  3289,  1012,  3345,  2035,  2047,  9228,  1999,  6149,\n",
              "         3343,  1998,  7709,  1012,  7374, 12816,  2005,  3025,  2154,  1997,\n",
              "         2449,  1012,  5356,  3771,  1013,  8013,  2578,  5890,  1013,  2294,\n",
              "         2000,  6021,  1013,  2297,  2194,  2171,  2103,  1010,  2110, 10198,\n",
              "         8013,  2326,  1012,  3113,  1004, 13467,  4341,  3289,  1012,  2393,\n",
              "         8013,  2424,  7300,  2005,  2010,  1013,  2014,  2449,  2030,  2188,\n",
              "         1012,  2128,  1011,  4518,  1998,  4550,  2392,  2203,  2012,  1996,\n",
              "         2203,  1997,  5670,  1012,  4813, 12170,  1011, 17002,  8787,  6581,\n",
              "         4807,  4813,  5151,  2111,  4813,  5541,  1010, 12369,  3993,  1010,\n",
              "         9525,  1010, 20865,  3512,  4105,  1011,  2765,  8048,  1998,  3289,\n",
              "         6162,  2099,  8114,  2104,  3778, 27029,  3042,  4813,  2495,  2449,\n",
              "         1010, 10452,  4744,  4402, 13524,  2451,  2267,  2103,  1010,  2110,\n",
              "         2449,  1010, 10452,  2152,  2082,  9827,  2289,  2225,  2152,  2082,\n",
              "         2103,  1010,  2110,   102,     0,     0,     0,     0,     0,     0,\n",
              "            0,     0,     0,     0,     0,     0,     0,     0,     0,     0,\n",
              "            0,     0,     0,     0,     0,     0,     0,     0,     0,     0,\n",
              "            0,     0,     0,     0,     0,     0,     0,     0,     0,     0,\n",
              "            0,     0,     0,     0,     0,     0,     0,     0,     0,     0,\n",
              "            0,     0,     0,     0,     0,     0,     0,     0,     0,     0,\n",
              "            0,     0,     0,     0,     0,     0,     0,     0,     0,     0,\n",
              "            0,     0,     0,     0,     0,     0,     0,     0,     0,     0,\n",
              "            0,     0,     0,     0,     0,     0,     0,     0,     0,     0,\n",
              "            0,     0])"
            ]
          },
          "metadata": {},
          "execution_count": 22
        }
      ]
    },
    {
      "cell_type": "code",
      "source": [
        "#forward pass\n",
        "outputs = model(input_ids=encoded_dataset['train']['input_ids'][0].unsqueeze(0), labels=encoded_dataset['train'][0]['labels'].unsqueeze(0))\n",
        "outputs"
      ],
      "metadata": {
        "colab": {
          "base_uri": "https://localhost:8080/"
        },
        "id": "5Ei34KLc0gag",
        "outputId": "9ade6de8-14ca-4415-9740-a7945d75b125"
      },
      "execution_count": 23,
      "outputs": [
        {
          "output_type": "stream",
          "name": "stderr",
          "text": [
            "We strongly recommend passing in an `attention_mask` since your input_ids may be padded. See https://huggingface.co/docs/transformers/troubleshooting#incorrect-output-when-padding-tokens-arent-masked.\n"
          ]
        },
        {
          "output_type": "execute_result",
          "data": {
            "text/plain": [
              "SequenceClassifierOutput(loss=tensor(0.6681, grad_fn=<BinaryCrossEntropyWithLogitsBackward0>), logits=tensor([[-0.4837, -0.3710,  0.2512,  0.3977, -0.7446,  0.4706, -0.7448,  0.3009,\n",
              "         -0.2457, -0.4882,  0.1009, -0.1964, -0.1705, -0.4283, -0.2520,  0.5075,\n",
              "         -0.0312,  0.8559, -0.3040, -0.4290,  0.1912,  0.1854,  0.3691, -0.2324]],\n",
              "       grad_fn=<AddmmBackward0>), hidden_states=None, attentions=None)"
            ]
          },
          "metadata": {},
          "execution_count": 23
        }
      ]
    },
    {
      "cell_type": "code",
      "source": [
        "trainer = Trainer(\n",
        "    model,\n",
        "    args,\n",
        "    train_dataset=encoded_dataset[\"train\"],\n",
        "    eval_dataset=encoded_dataset[\"valid\"],\n",
        "    tokenizer=tokenizer,\n",
        "    compute_metrics=compute_metrics\n",
        ")"
      ],
      "metadata": {
        "id": "xbhZZRFG1bbN"
      },
      "execution_count": 24,
      "outputs": []
    },
    {
      "cell_type": "code",
      "source": [
        "trainer.train()"
      ],
      "metadata": {
        "colab": {
          "base_uri": "https://localhost:8080/",
          "height": 323
        },
        "id": "YE1jxB4D1dRH",
        "outputId": "eabe6ebb-6847-4918-84d3-b0de712e6a03"
      },
      "execution_count": 25,
      "outputs": [
        {
          "output_type": "stream",
          "name": "stderr",
          "text": [
            "You're using a BertTokenizerFast tokenizer. Please note that with a fast tokenizer, using the `__call__` method is faster than using a method to encode the text followed by a call to the `pad` method to get a padded encoding.\n"
          ]
        },
        {
          "output_type": "display_data",
          "data": {
            "text/plain": [
              "<IPython.core.display.HTML object>"
            ],
            "text/html": [
              "\n",
              "    <div>\n",
              "      \n",
              "      <progress value='1400' max='1400' style='width:300px; height:20px; vertical-align: middle;'></progress>\n",
              "      [1400/1400 20:20, Epoch 5/5]\n",
              "    </div>\n",
              "    <table border=\"1\" class=\"dataframe\">\n",
              "  <thead>\n",
              " <tr style=\"text-align: left;\">\n",
              "      <th>Epoch</th>\n",
              "      <th>Training Loss</th>\n",
              "      <th>Validation Loss</th>\n",
              "      <th>F1</th>\n",
              "      <th>Roc Auc</th>\n",
              "      <th>Accuracy</th>\n",
              "    </tr>\n",
              "  </thead>\n",
              "  <tbody>\n",
              "    <tr>\n",
              "      <td>1</td>\n",
              "      <td>No log</td>\n",
              "      <td>0.170383</td>\n",
              "      <td>0.000000</td>\n",
              "      <td>0.500000</td>\n",
              "      <td>0.000000</td>\n",
              "    </tr>\n",
              "    <tr>\n",
              "      <td>2</td>\n",
              "      <td>0.201700</td>\n",
              "      <td>0.128177</td>\n",
              "      <td>0.000000</td>\n",
              "      <td>0.500000</td>\n",
              "      <td>0.000000</td>\n",
              "    </tr>\n",
              "    <tr>\n",
              "      <td>3</td>\n",
              "      <td>0.201700</td>\n",
              "      <td>0.097693</td>\n",
              "      <td>0.310811</td>\n",
              "      <td>0.592567</td>\n",
              "      <td>0.185484</td>\n",
              "    </tr>\n",
              "    <tr>\n",
              "      <td>4</td>\n",
              "      <td>0.113900</td>\n",
              "      <td>0.084257</td>\n",
              "      <td>0.723618</td>\n",
              "      <td>0.789797</td>\n",
              "      <td>0.580645</td>\n",
              "    </tr>\n",
              "    <tr>\n",
              "      <td>5</td>\n",
              "      <td>0.113900</td>\n",
              "      <td>0.080587</td>\n",
              "      <td>0.775120</td>\n",
              "      <td>0.825912</td>\n",
              "      <td>0.653226</td>\n",
              "    </tr>\n",
              "  </tbody>\n",
              "</table><p>"
            ]
          },
          "metadata": {}
        },
        {
          "output_type": "execute_result",
          "data": {
            "text/plain": [
              "TrainOutput(global_step=1400, training_loss=0.1376846068246024, metrics={'train_runtime': 1223.1762, 'train_samples_per_second': 9.136, 'train_steps_per_second': 1.145, 'total_flos': 2940846831820800.0, 'train_loss': 0.1376846068246024, 'epoch': 5.0})"
            ]
          },
          "metadata": {},
          "execution_count": 25
        }
      ]
    },
    {
      "cell_type": "code",
      "source": [
        "trainer.evaluate()"
      ],
      "metadata": {
        "colab": {
          "base_uri": "https://localhost:8080/",
          "height": 180
        },
        "id": "iuPdEVxQ1hPT",
        "outputId": "73e186fd-e613-4998-b027-41d582300d16"
      },
      "execution_count": 26,
      "outputs": [
        {
          "output_type": "display_data",
          "data": {
            "text/plain": [
              "<IPython.core.display.HTML object>"
            ],
            "text/html": [
              "\n",
              "    <div>\n",
              "      \n",
              "      <progress value='16' max='16' style='width:300px; height:20px; vertical-align: middle;'></progress>\n",
              "      [16/16 00:03]\n",
              "    </div>\n",
              "    "
            ]
          },
          "metadata": {}
        },
        {
          "output_type": "execute_result",
          "data": {
            "text/plain": [
              "{'eval_loss': 0.08058725297451019,\n",
              " 'eval_f1': 0.7751196172248804,\n",
              " 'eval_roc_auc': 0.8259116409537167,\n",
              " 'eval_accuracy': 0.6532258064516129,\n",
              " 'eval_runtime': 4.1268,\n",
              " 'eval_samples_per_second': 30.047,\n",
              " 'eval_steps_per_second': 3.877,\n",
              " 'epoch': 5.0}"
            ]
          },
          "metadata": {},
          "execution_count": 26
        }
      ]
    },
    {
      "cell_type": "markdown",
      "source": [
        "Predicting on New Resume"
      ],
      "metadata": {
        "id": "Qfc1o2UKXWZi"
      }
    },
    {
      "cell_type": "code",
      "source": [
        "resume_text = '''         PROGRAM MANAGER       Professional Summary    Highly-motivated community service professional skilled at networking, media outreach and relationship development. Flexible and versatile team player who maintains a sense of humor under pressure.      Core Qualifications          Citizen engagement  Employee relations  Media relations  Inter-governmental and legislative affairs  Social media  Event planning and logistics  Public speaking  Copywriting and copyediting  Microsoft Word and Excel expertise  Strong communication skills              Experience     10/2015   to   08/2016     Program Manager    Company Name   －   City  ,   State      Contributed to relevant blogs, conferences and events both off-line and online to increase brand awareness.       Managed the complete redesign and launch of the company's website in  [Number]  months.       Created an official company page on Facebook to facilitate interaction with customers.       Managed all social media programs, including Internet forums, blogs, social networking applications and message boards.      Presented on current promotions to the public at events and tradeshows.      Wrote newsletter marketing copy and presentation materials for special projects.     Established effective working relationships with clients, government officials and media representatives.     Developed and implemented communication strategies and information programs.     Gathered and analyzed data on community needs and interests.     Developed and published a monthly citizen newsletter.       Organized public appearances, lectures, contests and exhibits to increase product awareness.     Designed web and other content, including monthly newsletters and promotional calendars.         Managed the editorial content, design and distribution of the external company newsletter.       Conferred with production, graphic design and web-design personnel to coordinate production of corporate communications materials.         Developed corporate communications strategies and programs, including project timelines.         Coached less experienced public relations staff members on corporate communications practices.         Proofread and reviewed all print and electronic content for correct grammar and adherence to house style.         Revised campaigns in response to feedback from the creative director, account team and clients.         Reviewed and edited colleagues' written work for grammar, tone, voice and creative quality.           Implemented SEO strategy, resulting in  [Number] % increase to website hits.         Used software to manage efficient delivery and track content drafts.           Communicated with designers, graphic producers, video editors and videographers to create cohesive company voice.           Researched industrial and technical information to quickly come up to speed with unfamiliar industries.           Maintained awareness of digital trends and new emerging technologies and platforms.             08/2011   to   Current     Office of State Representative Intern District Director      City  ,   State      Recruited, trained and supervised 8-12 new staff members, interns and volunteers each year.  Reviewed staff work and gave comprehensive and constructive feedback.  Developed a 28-page training manual for new interns and volunteers.  Developed training program for specific, assigned job tasks, including database management and constituent casework.  Drafted meeting agendas, supplied advance materials and executed follow-up for meetings and team conferences.  Planned and publicized events, including securing more than $150,000 in sponsorships.  Edited and distributed press releases and pitches to local and national media outlets, securing positive coverage in multiple publications.  Attended community meetings and forums to answer questions, address complaints and explain procedures.  Collaborated with community members to educate the public regarding issues such as constitutional amendments and newly enacted legislation.  Received and screened a high volume of internal and external communications, including email and mail.  Simplified topics such as healthcare, energy, government and technology through clear, concise and compelling writing.  Wrote newsletter copy and presentation materials for special projects.  Created and maintained spreadsheets using advanced Excel functions and calculations to develop reports and lists.         01/2012   to   05/2012     Intern    Company Name   －   City  ,   State      Identified customer needs through market research and analysis.  Tracked communication regarding clients using print and electronic media.          Education          Bachelorof Science  :   Public Relations    University of Texas at Austin          Public Relations            Bachelor of Journalism  :   Broadcast    University of Texas   －   City        Broadcast          Skills    Excellent interpersonal skills, Strong communication skills, concise, conferences, copyediting, Copywriting, clients, database management, email, Employee relations, Event planning, government, logistics, market research and analysis, materials, Media relations, meetings, Excel, mail, Microsoft Word, newsletter, page, press releases, problem solver, Public speaking, publications, Fast learner, Self-starter, spreadsheets'''"
      ],
      "metadata": {
        "id": "43-1PddzW9vJ"
      },
      "execution_count": 90,
      "outputs": []
    },
    {
      "cell_type": "code",
      "source": [
        "encoding = tokenizer(resume_text, return_tensors=\"pt\", padding=\"max_length\", truncation=True, max_length = 512)\n",
        "encoding = {k: v.to(trainer.model.device) for k,v in encoding.items()}\n",
        "\n",
        "outputs = trainer.model(**encoding)\n",
        "\n",
        "logits = outputs.logits\n",
        "\n",
        "# apply sigmoid + threshold\n",
        "sigmoid = torch.nn.Sigmoid()\n",
        "probs = sigmoid(logits.squeeze().cpu())\n",
        "idx = torch.argmax(probs)\n",
        "# turn predicted id's into actual label names\n",
        "predicted_label = id2label[idx.item()]\n",
        "print(predicted_label[9:] + '\\n')\n",
        "print(\"All Probabilities: \")\n",
        "all_probs = []\n",
        "for i in range(len(probs)):\n",
        "    all_probs.append((id2label[i][9:] + \": \", str(probs[i].item())))\n",
        "all_probs.sort(key = lambda a: a[1], reverse = True)\n",
        "for i in all_probs:\n",
        "    print(i[0] + i[1])"
      ],
      "metadata": {
        "colab": {
          "base_uri": "https://localhost:8080/"
        },
        "id": "XsJfNlrjQKKy",
        "outputId": "803de0de-4fca-48e0-c4fc-72764406495a"
      },
      "execution_count": 91,
      "outputs": [
        {
          "output_type": "stream",
          "name": "stdout",
          "text": [
            "PUBLIC-RELATIONS\n",
            "\n",
            "All Probabilities: \n",
            "PUBLIC-RELATIONS: 0.5161656141281128\n",
            "DIGITAL-MEDIA: 0.08589410781860352\n",
            "ARTS: 0.07381365448236465\n",
            "BUSINESS-DEVELOPMENT: 0.0639791414141655\n",
            "ADVOCATE: 0.05970282480120659\n",
            "BANKING: 0.0573815256357193\n",
            "AGRICULTURE: 0.04858798161149025\n",
            "APPAREL: 0.046936552971601486\n",
            "CONSULTANT: 0.04624016582965851\n",
            "DESIGNER: 0.045550405979156494\n",
            "FINANCE: 0.0427267886698246\n",
            "SALES: 0.041872330009937286\n",
            "FITNESS: 0.04118255153298378\n",
            "CHEF: 0.03962745890021324\n",
            "HEALTHCARE: 0.038089483976364136\n",
            "AVIATION: 0.03517140820622444\n",
            "HR: 0.0290546715259552\n",
            "INFORMATION-TECHNOLOGY: 0.02706136181950569\n",
            "BPO: 0.026406222954392433\n",
            "ACCOUNTANT: 0.024931924417614937\n",
            "AUTOMOBILE: 0.021704308688640594\n",
            "CONSTRUCTION: 0.021369121968746185\n",
            "ENGINEERING: 0.02099710702896118\n",
            "TEACHER: 0.017785513773560524\n"
          ]
        }
      ]
    }
  ]
}