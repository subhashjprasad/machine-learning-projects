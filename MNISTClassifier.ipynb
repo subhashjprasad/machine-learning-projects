{
  "nbformat": 4,
  "nbformat_minor": 0,
  "metadata": {
    "colab": {
      "provenance": [],
      "gpuType": "T4",
      "authorship_tag": "ABX9TyOke3aWS45F6eRgVyPHtd4e",
      "include_colab_link": true
    },
    "kernelspec": {
      "name": "python3",
      "display_name": "Python 3"
    },
    "language_info": {
      "name": "python"
    },
    "accelerator": "GPU"
  },
  "cells": [
    {
      "cell_type": "markdown",
      "metadata": {
        "id": "view-in-github",
        "colab_type": "text"
      },
      "source": [
        "<a href=\"https://colab.research.google.com/github/subhashjprasad/machine-learning-projects/blob/main/MNISTClassifier.ipynb\" target=\"_parent\"><img src=\"https://colab.research.google.com/assets/colab-badge.svg\" alt=\"Open In Colab\"/></a>"
      ]
    },
    {
      "cell_type": "markdown",
      "source": [
        "Loading the Data"
      ],
      "metadata": {
        "id": "gARAXuNE0Uot"
      }
    },
    {
      "cell_type": "code",
      "execution_count": null,
      "metadata": {
        "colab": {
          "base_uri": "https://localhost:8080/"
        },
        "id": "dWqGzKZ90D2Q",
        "outputId": "5a33a18e-6380-4dc7-dc4c-b3adf42475df"
      },
      "outputs": [
        {
          "output_type": "stream",
          "name": "stdout",
          "text": [
            "torch.Size([32, 1, 28, 28]) torch.Size([32])\n"
          ]
        }
      ],
      "source": [
        "# visualization\n",
        "import matplotlib.pyplot as plt\n",
        "\n",
        "# actual imports\n",
        "import torch\n",
        "import torch.nn as nn\n",
        "import torch.optim as optim\n",
        "from torch.utils.data import Dataset, DataLoader, sampler\n",
        "import torchvision.datasets as datasets\n",
        "import torchvision.transforms as T\n",
        "\n",
        "# loading MNIST data\n",
        "batch_size = 32\n",
        "\n",
        "mnist_train = datasets.MNIST('.', download = True, train = True, transform = T.ToTensor())\n",
        "loader_train = DataLoader(mnist_train, batch_size=batch_size, sampler=sampler.SubsetRandomSampler(range(50000)))\n",
        "\n",
        "mnist_val = datasets.MNIST('.', download = True, train = True, transform = T.ToTensor())\n",
        "loader_val = DataLoader(mnist_val, batch_size=batch_size, sampler=sampler.SubsetRandomSampler(range(50000, 60000)))\n",
        "\n",
        "# checking out the batches\n",
        "batch = next(iter(loader_train))\n",
        "print(batch[0].shape, batch[1].shape)"
      ]
    },
    {
      "cell_type": "markdown",
      "source": [
        "Checking Device"
      ],
      "metadata": {
        "id": "neTctWLR19jo"
      }
    },
    {
      "cell_type": "code",
      "source": [
        "USE_GPU = True\n",
        "\n",
        "dtype = torch.float32\n",
        "\n",
        "if USE_GPU and torch.cuda.is_available():\n",
        "    device = torch.device('cuda') # this is what should happen\n",
        "else:\n",
        "    device = torch.device('cpu')\n",
        "\n",
        "print('using device:', device) # should show cuda"
      ],
      "metadata": {
        "colab": {
          "base_uri": "https://localhost:8080/"
        },
        "id": "gr2js8EU2AIo",
        "outputId": "0f5b1aa1-d6bb-4679-ede3-7036d0fc0418"
      },
      "execution_count": null,
      "outputs": [
        {
          "output_type": "stream",
          "name": "stdout",
          "text": [
            "using device: cuda\n"
          ]
        }
      ]
    },
    {
      "cell_type": "markdown",
      "source": [
        "Defining Necessary Functions"
      ],
      "metadata": {
        "id": "4TL4lbOg3a9y"
      }
    },
    {
      "cell_type": "code",
      "source": [
        "def check_accuracy(loader, model):\n",
        "    if loader.dataset.train:\n",
        "        print('Checking accuracy on validation set')\n",
        "    else:\n",
        "        print('Checking accuracy on test set')\n",
        "    num_correct = 0\n",
        "    num_samples = 0\n",
        "    model.eval()  # set model to evaluation mode\n",
        "    with torch.no_grad():\n",
        "        for x, y in loader:\n",
        "            x = x.to(device=device, dtype=dtype)  # move to device, e.g. GPU\n",
        "            y = y.to(device=device, dtype=torch.long)\n",
        "            scores = model(x)\n",
        "            _, preds = scores.max(1)\n",
        "            num_correct += (preds == y).sum()\n",
        "            num_samples += preds.size(0)\n",
        "        acc = float(num_correct) / num_samples\n",
        "        print('Got %d / %d correct (%.2f)' % (num_correct, num_samples, 100 * acc))\n",
        "    return acc\n",
        "\n",
        "def train(model, optimizer, loader_train, loader_val, epochs=1, print_every=100):\n",
        "    \"\"\"\n",
        "    Train a model on using the PyTorch Module API and prints model\n",
        "    accuracies during training.\n",
        "\n",
        "    Inputs:\n",
        "    - model: A PyTorch Module giving the model to train.\n",
        "    - optimizer: An Optimizer object we will use to train the model\n",
        "    - loader_train: Dataloader for training\n",
        "    - loader_val: Dataloader for evaluation\n",
        "    - epochs: (Optional) A Python integer giving the number of epochs to train for\n",
        "    - print_every: Number of iterations at which the accuracy of the model\n",
        "      should be evaluated periodically\n",
        "\n",
        "    Returns: Lists of validation accuracies at the end of each epoch.\n",
        "    \"\"\"\n",
        "    loss_fn = nn.CrossEntropyLoss()\n",
        "    model = model.to(device=device)  # move the model parameters to CPU/GPU\n",
        "    train_accs = []\n",
        "    val_accs = []\n",
        "    for e in range(epochs):\n",
        "        print('-' * 128)\n",
        "        for t, (x, y) in enumerate(loader_train):\n",
        "            model.train()  # put model to training mode\n",
        "            x = x.to(device=device, dtype=dtype)  # move to device, e.g. GPU\n",
        "            y = y.to(device=device, dtype=torch.long)\n",
        "\n",
        "            scores = model(x)\n",
        "            loss = loss_fn(scores, y)\n",
        "\n",
        "            # Zero out all of the gradients for the variables which the optimizer\n",
        "            # will update.\n",
        "            optimizer.zero_grad()\n",
        "\n",
        "            # This is the backwards pass: compute the gradient of the loss with\n",
        "            # respect to each trainable parameter of the model.\n",
        "            loss.backward()\n",
        "\n",
        "            # Actually update the parameters of the model using the gradients\n",
        "            # computed by the backwards pass.\n",
        "            optimizer.step()\n",
        "\n",
        "            if t % print_every == 0:\n",
        "                print('Iteration %d, loss = %.4f' % (t, loss.item()))\n",
        "                check_accuracy(loader_val, model)\n",
        "                print()\n",
        "        val_accs.append(check_accuracy(loader_val, model))\n",
        "    return val_accs\n"
      ],
      "metadata": {
        "id": "XuVvajiW3gEu"
      },
      "execution_count": null,
      "outputs": []
    },
    {
      "cell_type": "markdown",
      "source": [
        "Creating the Model"
      ],
      "metadata": {
        "id": "mNtR4NTO0tsK"
      }
    },
    {
      "cell_type": "code",
      "source": [
        "# flatten function\n",
        "def flatten(x):\n",
        "    N = x.shape[0] # read in N, C, H, W\n",
        "    return x.view(N, -1)  # \"flatten\" the C * H * W values into a single vector per image\n",
        "\n",
        "# class to flatten the data\n",
        "class Flatten(nn.Module):\n",
        "    def forward(self, x):\n",
        "        return flatten(x)\n",
        "\n",
        "hidden_layer_size = 16 # mean of input and output layer sizes\n",
        "\n",
        "# stochastic gradient descent (with momentum) hyperparameters\n",
        "learning_rate = 1e-2 # small number\n",
        "momentum_factor = 0.9 # momentum factor\n",
        "\n",
        "# adam hyperparameters\n",
        "adam_learning_rate = 1e-3 # small number\n",
        "beta1 = 0.9 # momentum factor\n",
        "beta2 = 0.999 # RMSprop factor\n",
        "adam_weight_decay = 0.0 # weight decay factor\n",
        "\n",
        "# model definition\n",
        "model = nn.Sequential(\n",
        "    Flatten(),\n",
        "    nn.Linear(1 * 28 * 28, hidden_layer_size), # 1 * 28 * 28 = 784\n",
        "    nn.ReLU(),\n",
        "    nn.Linear(hidden_layer_size, hidden_layer_size), # 1 * 28 * 28 = 784\n",
        "    nn.ReLU(),\n",
        "    nn.Linear(hidden_layer_size, 10),\n",
        ")\n",
        "\n",
        "model = model.to(device) # making sure the model runs on GPU"
      ],
      "metadata": {
        "id": "F1JInqfZ0y8G"
      },
      "execution_count": null,
      "outputs": []
    },
    {
      "cell_type": "markdown",
      "source": [
        "Testing Input/Output Dimensions"
      ],
      "metadata": {
        "id": "JqW7P1xy2Oi3"
      }
    },
    {
      "cell_type": "code",
      "source": [
        "x = torch.zeros((8, 1, 28, 28), device=device, dtype=dtype)  # minibatch size of 8\n",
        "scores = model(x)\n",
        "print(scores.size())  # you should see [8, 10]"
      ],
      "metadata": {
        "colab": {
          "base_uri": "https://localhost:8080/"
        },
        "id": "BFl-tQ9G2II4",
        "outputId": "f7dc41b5-c720-48fb-99b8-7c612248f47b"
      },
      "execution_count": null,
      "outputs": [
        {
          "output_type": "stream",
          "name": "stdout",
          "text": [
            "torch.Size([8, 10])\n"
          ]
        }
      ]
    },
    {
      "cell_type": "markdown",
      "source": [
        "Checking Size of Network"
      ],
      "metadata": {
        "id": "JGSim08K25EU"
      }
    },
    {
      "cell_type": "code",
      "source": [
        "def count_parameters(model):\n",
        "    return sum(p.numel() for p in model.parameters() if p.requires_grad)\n",
        "count_parameters(model) # number of trainable parameters"
      ],
      "metadata": {
        "colab": {
          "base_uri": "https://localhost:8080/"
        },
        "id": "ezEjbQ5d2YrG",
        "outputId": "dfdc6117-becd-40ec-aaac-8b4213fda65b"
      },
      "execution_count": null,
      "outputs": [
        {
          "output_type": "execute_result",
          "data": {
            "text/plain": [
              "13002"
            ]
          },
          "metadata": {},
          "execution_count": 70
        }
      ]
    },
    {
      "cell_type": "markdown",
      "source": [
        "Training Network"
      ],
      "metadata": {
        "id": "1j8xUPzC3GtF"
      }
    },
    {
      "cell_type": "code",
      "source": [
        "# optimizer = optim.SGD(model.parameters(), lr = learning_rate, momentum = momentum_factor) # stochastic gradient descent (with momentum)\n",
        "optimizer = optim.Adam(model.parameters(), lr = adam_learning_rate, betas = (beta1, beta2), weight_decay = adam_weight_decay) # adam\n",
        "\n",
        "train(model, optimizer, loader_train, loader_val, epochs=5, print_every=200) # should get to 95% accuracy"
      ],
      "metadata": {
        "colab": {
          "base_uri": "https://localhost:8080/"
        },
        "id": "T89cQfOt3B39",
        "outputId": "e6f222d2-f3f9-4455-faf9-b618e48dafef"
      },
      "execution_count": null,
      "outputs": [
        {
          "output_type": "stream",
          "name": "stdout",
          "text": [
            "--------------------------------------------------------------------------------------------------------------------------------\n",
            "Iteration 0, loss = 2.3037\n",
            "Checking accuracy on validation set\n",
            "Got 1185 / 10000 correct (11.85)\n",
            "\n",
            "Iteration 200, loss = 0.8238\n",
            "Checking accuracy on validation set\n",
            "Got 8197 / 10000 correct (81.97)\n",
            "\n",
            "Iteration 400, loss = 0.4069\n",
            "Checking accuracy on validation set\n",
            "Got 8867 / 10000 correct (88.67)\n",
            "\n",
            "Iteration 600, loss = 0.5149\n",
            "Checking accuracy on validation set\n",
            "Got 9032 / 10000 correct (90.32)\n",
            "\n",
            "Iteration 800, loss = 0.4912\n",
            "Checking accuracy on validation set\n",
            "Got 9071 / 10000 correct (90.71)\n",
            "\n",
            "Iteration 1000, loss = 0.3672\n",
            "Checking accuracy on validation set\n",
            "Got 9147 / 10000 correct (91.47)\n",
            "\n",
            "Iteration 1200, loss = 0.2580\n",
            "Checking accuracy on validation set\n",
            "Got 9170 / 10000 correct (91.70)\n",
            "\n",
            "Iteration 1400, loss = 0.1707\n",
            "Checking accuracy on validation set\n",
            "Got 9159 / 10000 correct (91.59)\n",
            "\n",
            "Checking accuracy on validation set\n",
            "Got 9217 / 10000 correct (92.17)\n",
            "--------------------------------------------------------------------------------------------------------------------------------\n",
            "Iteration 0, loss = 0.1774\n",
            "Checking accuracy on validation set\n",
            "Got 9223 / 10000 correct (92.23)\n",
            "\n",
            "Iteration 200, loss = 0.3633\n",
            "Checking accuracy on validation set\n",
            "Got 9236 / 10000 correct (92.36)\n",
            "\n",
            "Iteration 400, loss = 0.2129\n",
            "Checking accuracy on validation set\n",
            "Got 9279 / 10000 correct (92.79)\n",
            "\n",
            "Iteration 600, loss = 0.0630\n",
            "Checking accuracy on validation set\n",
            "Got 9288 / 10000 correct (92.88)\n",
            "\n",
            "Iteration 800, loss = 0.1654\n",
            "Checking accuracy on validation set\n",
            "Got 9296 / 10000 correct (92.96)\n",
            "\n",
            "Iteration 1000, loss = 0.1647\n",
            "Checking accuracy on validation set\n",
            "Got 9326 / 10000 correct (93.26)\n",
            "\n",
            "Iteration 1200, loss = 0.2099\n",
            "Checking accuracy on validation set\n",
            "Got 9357 / 10000 correct (93.57)\n",
            "\n",
            "Iteration 1400, loss = 0.2650\n",
            "Checking accuracy on validation set\n",
            "Got 9353 / 10000 correct (93.53)\n",
            "\n",
            "Checking accuracy on validation set\n",
            "Got 9316 / 10000 correct (93.16)\n",
            "--------------------------------------------------------------------------------------------------------------------------------\n",
            "Iteration 0, loss = 0.1365\n",
            "Checking accuracy on validation set\n",
            "Got 9312 / 10000 correct (93.12)\n",
            "\n",
            "Iteration 200, loss = 0.2109\n",
            "Checking accuracy on validation set\n",
            "Got 9391 / 10000 correct (93.91)\n",
            "\n",
            "Iteration 400, loss = 0.4118\n",
            "Checking accuracy on validation set\n",
            "Got 9360 / 10000 correct (93.60)\n",
            "\n",
            "Iteration 600, loss = 0.0542\n",
            "Checking accuracy on validation set\n",
            "Got 9410 / 10000 correct (94.10)\n",
            "\n",
            "Iteration 800, loss = 0.0636\n",
            "Checking accuracy on validation set\n",
            "Got 9396 / 10000 correct (93.96)\n",
            "\n",
            "Iteration 1000, loss = 0.1114\n",
            "Checking accuracy on validation set\n",
            "Got 9410 / 10000 correct (94.10)\n",
            "\n",
            "Iteration 1200, loss = 0.2120\n",
            "Checking accuracy on validation set\n",
            "Got 9420 / 10000 correct (94.20)\n",
            "\n",
            "Iteration 1400, loss = 0.1943\n",
            "Checking accuracy on validation set\n",
            "Got 9429 / 10000 correct (94.29)\n",
            "\n",
            "Checking accuracy on validation set\n",
            "Got 9426 / 10000 correct (94.26)\n",
            "--------------------------------------------------------------------------------------------------------------------------------\n",
            "Iteration 0, loss = 0.3175\n",
            "Checking accuracy on validation set\n",
            "Got 9421 / 10000 correct (94.21)\n",
            "\n",
            "Iteration 200, loss = 0.5052\n",
            "Checking accuracy on validation set\n",
            "Got 9436 / 10000 correct (94.36)\n",
            "\n",
            "Iteration 400, loss = 0.1130\n",
            "Checking accuracy on validation set\n",
            "Got 9430 / 10000 correct (94.30)\n",
            "\n",
            "Iteration 600, loss = 0.0629\n",
            "Checking accuracy on validation set\n",
            "Got 9449 / 10000 correct (94.49)\n",
            "\n",
            "Iteration 800, loss = 0.1949\n",
            "Checking accuracy on validation set\n",
            "Got 9450 / 10000 correct (94.50)\n",
            "\n",
            "Iteration 1000, loss = 0.1213\n",
            "Checking accuracy on validation set\n",
            "Got 9473 / 10000 correct (94.73)\n",
            "\n",
            "Iteration 1200, loss = 0.1726\n",
            "Checking accuracy on validation set\n",
            "Got 9467 / 10000 correct (94.67)\n",
            "\n",
            "Iteration 1400, loss = 0.1124\n",
            "Checking accuracy on validation set\n",
            "Got 9475 / 10000 correct (94.75)\n",
            "\n",
            "Checking accuracy on validation set\n",
            "Got 9491 / 10000 correct (94.91)\n",
            "--------------------------------------------------------------------------------------------------------------------------------\n",
            "Iteration 0, loss = 0.2481\n",
            "Checking accuracy on validation set\n",
            "Got 9485 / 10000 correct (94.85)\n",
            "\n",
            "Iteration 200, loss = 0.0429\n",
            "Checking accuracy on validation set\n",
            "Got 9480 / 10000 correct (94.80)\n",
            "\n",
            "Iteration 400, loss = 0.2613\n",
            "Checking accuracy on validation set\n",
            "Got 9505 / 10000 correct (95.05)\n",
            "\n",
            "Iteration 600, loss = 0.1304\n",
            "Checking accuracy on validation set\n",
            "Got 9496 / 10000 correct (94.96)\n",
            "\n",
            "Iteration 800, loss = 0.1694\n",
            "Checking accuracy on validation set\n",
            "Got 9495 / 10000 correct (94.95)\n",
            "\n",
            "Iteration 1000, loss = 0.2018\n",
            "Checking accuracy on validation set\n",
            "Got 9520 / 10000 correct (95.20)\n",
            "\n",
            "Iteration 1200, loss = 0.1002\n",
            "Checking accuracy on validation set\n",
            "Got 9523 / 10000 correct (95.23)\n",
            "\n",
            "Iteration 1400, loss = 0.0270\n",
            "Checking accuracy on validation set\n",
            "Got 9502 / 10000 correct (95.02)\n",
            "\n",
            "Checking accuracy on validation set\n",
            "Got 9522 / 10000 correct (95.22)\n"
          ]
        },
        {
          "output_type": "execute_result",
          "data": {
            "text/plain": [
              "[0.9217, 0.9316, 0.9426, 0.9491, 0.9522]"
            ]
          },
          "metadata": {},
          "execution_count": 71
        }
      ]
    },
    {
      "cell_type": "markdown",
      "source": [
        "Success!"
      ],
      "metadata": {
        "id": "TSM3jG_lItf3"
      }
    }
  ]
}