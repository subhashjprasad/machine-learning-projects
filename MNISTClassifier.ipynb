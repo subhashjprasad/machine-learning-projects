{
  "cells": [
    {
      "cell_type": "markdown",
      "metadata": {
        "id": "view-in-github",
        "colab_type": "text"
      },
      "source": [
        "<a href=\"https://colab.research.google.com/github/subhashjprasad/machine-learning-projects/blob/main/MNISTClassifier.ipynb\" target=\"_parent\"><img src=\"https://colab.research.google.com/assets/colab-badge.svg\" alt=\"Open In Colab\"/></a>"
      ]
    },
    {
      "cell_type": "markdown",
      "metadata": {
        "id": "gARAXuNE0Uot"
      },
      "source": [
        "Loading the Data"
      ]
    },
    {
      "cell_type": "code",
      "execution_count": 12,
      "metadata": {
        "colab": {
          "base_uri": "https://localhost:8080/"
        },
        "id": "dWqGzKZ90D2Q",
        "outputId": "720e46a8-37b8-4cbd-aaf6-d94f7cfec560"
      },
      "outputs": [
        {
          "output_type": "stream",
          "name": "stdout",
          "text": [
            "torch.Size([32, 1, 28, 28]) torch.Size([32])\n"
          ]
        }
      ],
      "source": [
        "# visualization\n",
        "import matplotlib.pyplot as plt\n",
        "\n",
        "# actual imports\n",
        "import torch\n",
        "import torch.nn as nn\n",
        "import torch.optim as optim\n",
        "from torch.utils.data import Dataset, DataLoader, sampler\n",
        "import torchvision.datasets as datasets\n",
        "import torchvision.transforms as T\n",
        "\n",
        "# loading MNIST data\n",
        "batch_size = 32\n",
        "\n",
        "mnist_train = datasets.MNIST('.', download = True, train = True, transform = T.ToTensor())\n",
        "loader_train = DataLoader(mnist_train, batch_size=batch_size, sampler=sampler.SubsetRandomSampler(range(50000)))\n",
        "\n",
        "mnist_val = datasets.MNIST('.', download = True, train = True, transform = T.ToTensor())\n",
        "loader_val = DataLoader(mnist_val, batch_size=batch_size, sampler=sampler.SubsetRandomSampler(range(50000, 60000)))\n",
        "\n",
        "# checking out the batches\n",
        "batch = next(iter(loader_train))\n",
        "print(batch[0].shape, batch[1].shape)"
      ]
    },
    {
      "cell_type": "markdown",
      "metadata": {
        "id": "neTctWLR19jo"
      },
      "source": [
        "Checking Device"
      ]
    },
    {
      "cell_type": "code",
      "execution_count": 13,
      "metadata": {
        "colab": {
          "base_uri": "https://localhost:8080/"
        },
        "id": "gr2js8EU2AIo",
        "outputId": "72a106b9-36e2-4e60-cc56-042d5552378b"
      },
      "outputs": [
        {
          "output_type": "stream",
          "name": "stdout",
          "text": [
            "using device: cuda\n"
          ]
        }
      ],
      "source": [
        "USE_GPU = True\n",
        "\n",
        "dtype = torch.float32\n",
        "\n",
        "if USE_GPU and torch.cuda.is_available():\n",
        "    device = torch.device('cuda') # this is what should happen\n",
        "else:\n",
        "    device = torch.device('cpu')\n",
        "\n",
        "print('using device:', device) # should show cuda"
      ]
    },
    {
      "cell_type": "markdown",
      "metadata": {
        "id": "4TL4lbOg3a9y"
      },
      "source": [
        "Defining Necessary Functions"
      ]
    },
    {
      "cell_type": "code",
      "execution_count": 14,
      "metadata": {
        "id": "XuVvajiW3gEu"
      },
      "outputs": [],
      "source": [
        "def check_accuracy(loader, model):\n",
        "    if loader.dataset.train:\n",
        "        print('Checking accuracy on validation set')\n",
        "    else:\n",
        "        print('Checking accuracy on test set')\n",
        "    num_correct = 0\n",
        "    num_samples = 0\n",
        "    model.eval()  # set model to evaluation mode\n",
        "    with torch.no_grad():\n",
        "        for x, y in loader:\n",
        "            x = x.to(device=device, dtype=dtype)  # move to device, e.g. GPU\n",
        "            y = y.to(device=device, dtype=torch.long)\n",
        "            scores = model(x)\n",
        "            _, preds = scores.max(1)\n",
        "            num_correct += (preds == y).sum()\n",
        "            num_samples += preds.size(0)\n",
        "        acc = float(num_correct) / num_samples\n",
        "        print('Got %d / %d correct (%.2f)' % (num_correct, num_samples, 100 * acc))\n",
        "    return acc\n",
        "\n",
        "def train(model, optimizer, loader_train, loader_val, epochs=1, print_every=100):\n",
        "    \"\"\"\n",
        "    Train a model on using the PyTorch Module API and prints model\n",
        "    accuracies during training.\n",
        "\n",
        "    Inputs:\n",
        "    - model: A PyTorch Module giving the model to train.\n",
        "    - optimizer: An Optimizer object we will use to train the model\n",
        "    - loader_train: Dataloader for training\n",
        "    - loader_val: Dataloader for evaluation\n",
        "    - epochs: (Optional) A Python integer giving the number of epochs to train for\n",
        "    - print_every: Number of iterations at which the accuracy of the model\n",
        "      should be evaluated periodically\n",
        "\n",
        "    Returns: Lists of validation accuracies at the end of each epoch.\n",
        "    \"\"\"\n",
        "    loss_fn = nn.CrossEntropyLoss()\n",
        "    model = model.to(device=device)  # move the model parameters to CPU/GPU\n",
        "    train_accs = []\n",
        "    val_accs = []\n",
        "    for e in range(epochs):\n",
        "        print('-' * 128)\n",
        "        for t, (x, y) in enumerate(loader_train):\n",
        "            model.train()  # put model to training mode\n",
        "            x = x.to(device=device, dtype=dtype)  # move to device, e.g. GPU\n",
        "            y = y.to(device=device, dtype=torch.long)\n",
        "\n",
        "            scores = model(x)\n",
        "            loss = loss_fn(scores, y)\n",
        "\n",
        "            # Zero out all of the gradients for the variables which the optimizer\n",
        "            # will update.\n",
        "            optimizer.zero_grad()\n",
        "\n",
        "            # This is the backwards pass: compute the gradient of the loss with\n",
        "            # respect to each trainable parameter of the model.\n",
        "            loss.backward()\n",
        "\n",
        "            # Actually update the parameters of the model using the gradients\n",
        "            # computed by the backwards pass.\n",
        "            optimizer.step()\n",
        "\n",
        "            if t % print_every == 0:\n",
        "                print('Iteration %d, loss = %.4f' % (t, loss.item()))\n",
        "                check_accuracy(loader_val, model)\n",
        "                print()\n",
        "        val_accs.append(check_accuracy(loader_val, model))\n",
        "    return val_accs\n"
      ]
    },
    {
      "cell_type": "markdown",
      "metadata": {
        "id": "mNtR4NTO0tsK"
      },
      "source": [
        "Creating the Model"
      ]
    },
    {
      "cell_type": "code",
      "execution_count": 35,
      "metadata": {
        "id": "F1JInqfZ0y8G"
      },
      "outputs": [],
      "source": [
        "# flatten function\n",
        "def flatten(x):\n",
        "    N = x.shape[0] # read in N, C, H, W\n",
        "    return x.view(N, -1)  # \"flatten\" the C * H * W values into a single vector per image\n",
        "\n",
        "# class to flatten the data\n",
        "class Flatten(nn.Module):\n",
        "    def forward(self, x):\n",
        "        return flatten(x)\n",
        "\n",
        "hidden_layer_size = 18 # number of nodes in the hidden layers\n",
        "\n",
        "# stochastic gradient descent (with momentum) hyperparameters\n",
        "learning_rate = 1e-2 # small number\n",
        "momentum_factor = 0.9 # momentum factor\n",
        "\n",
        "# adam hyperparameters\n",
        "adam_learning_rate = 1e-3 # small number\n",
        "beta1 = 0.9 # momentum factor\n",
        "beta2 = 0.999 # RMSprop factor\n",
        "adam_weight_decay = 0.0 # weight decay factor\n",
        "\n",
        "# model definition\n",
        "model = nn.Sequential(\n",
        "    Flatten(),\n",
        "    nn.Linear(1 * 28 * 28, 18), # 1 * 28 * 28 = 784\n",
        "    nn.ReLU(),\n",
        "    nn.Linear(18, 18),\n",
        "    nn.ReLU(),\n",
        "    nn.Linear(18, 10),\n",
        ")\n",
        "\n",
        "model = model.to(device) # making sure the model runs on GPU"
      ]
    },
    {
      "cell_type": "markdown",
      "metadata": {
        "id": "JqW7P1xy2Oi3"
      },
      "source": [
        "Testing Input/Output Dimensions"
      ]
    },
    {
      "cell_type": "code",
      "execution_count": 32,
      "metadata": {
        "colab": {
          "base_uri": "https://localhost:8080/"
        },
        "id": "BFl-tQ9G2II4",
        "outputId": "db6d5f51-ce0d-4738-dfe4-f5fe2d6525a0"
      },
      "outputs": [
        {
          "output_type": "stream",
          "name": "stdout",
          "text": [
            "torch.Size([8, 10])\n"
          ]
        }
      ],
      "source": [
        "x = torch.zeros((8, 1, 28, 28), device=device, dtype=dtype)  # minibatch size of 8\n",
        "scores = model(x)\n",
        "print(scores.size())  # you should see [8, 10]"
      ]
    },
    {
      "cell_type": "markdown",
      "metadata": {
        "id": "JGSim08K25EU"
      },
      "source": [
        "Checking Size of Network"
      ]
    },
    {
      "cell_type": "code",
      "execution_count": 36,
      "metadata": {
        "colab": {
          "base_uri": "https://localhost:8080/"
        },
        "id": "ezEjbQ5d2YrG",
        "outputId": "783a2d09-b6c0-476c-b527-d0158ec085b1"
      },
      "outputs": [
        {
          "output_type": "execute_result",
          "data": {
            "text/plain": [
              "14662"
            ]
          },
          "metadata": {},
          "execution_count": 36
        }
      ],
      "source": [
        "def count_parameters(model):\n",
        "    return sum(p.numel() for p in model.parameters() if p.requires_grad)\n",
        "count_parameters(model) # number of trainable parameters"
      ]
    },
    {
      "cell_type": "markdown",
      "metadata": {
        "id": "1j8xUPzC3GtF"
      },
      "source": [
        "Training Network"
      ]
    },
    {
      "cell_type": "code",
      "execution_count": 37,
      "metadata": {
        "colab": {
          "base_uri": "https://localhost:8080/"
        },
        "id": "T89cQfOt3B39",
        "outputId": "f4ec91c7-1cd0-44ff-a039-cd63a15a8cb8"
      },
      "outputs": [
        {
          "output_type": "stream",
          "name": "stdout",
          "text": [
            "--------------------------------------------------------------------------------------------------------------------------------\n",
            "Iteration 0, loss = 2.3193\n",
            "Checking accuracy on validation set\n",
            "Got 819 / 10000 correct (8.19)\n",
            "\n",
            "Iteration 200, loss = 0.6471\n",
            "Checking accuracy on validation set\n",
            "Got 8446 / 10000 correct (84.46)\n",
            "\n",
            "Iteration 400, loss = 0.5561\n",
            "Checking accuracy on validation set\n",
            "Got 8810 / 10000 correct (88.10)\n",
            "\n",
            "Iteration 600, loss = 0.4854\n",
            "Checking accuracy on validation set\n",
            "Got 8923 / 10000 correct (89.23)\n",
            "\n",
            "Iteration 800, loss = 0.2766\n",
            "Checking accuracy on validation set\n",
            "Got 9101 / 10000 correct (91.01)\n",
            "\n",
            "Iteration 1000, loss = 0.1025\n",
            "Checking accuracy on validation set\n",
            "Got 9170 / 10000 correct (91.70)\n",
            "\n",
            "Iteration 1200, loss = 0.2597\n",
            "Checking accuracy on validation set\n",
            "Got 9218 / 10000 correct (92.18)\n",
            "\n",
            "Iteration 1400, loss = 0.4047\n",
            "Checking accuracy on validation set\n",
            "Got 9210 / 10000 correct (92.10)\n",
            "\n",
            "Checking accuracy on validation set\n",
            "Got 9224 / 10000 correct (92.24)\n",
            "--------------------------------------------------------------------------------------------------------------------------------\n",
            "Iteration 0, loss = 0.0980\n",
            "Checking accuracy on validation set\n",
            "Got 9227 / 10000 correct (92.27)\n",
            "\n",
            "Iteration 200, loss = 0.2142\n",
            "Checking accuracy on validation set\n",
            "Got 9277 / 10000 correct (92.77)\n",
            "\n",
            "Iteration 400, loss = 0.1000\n",
            "Checking accuracy on validation set\n",
            "Got 9293 / 10000 correct (92.93)\n",
            "\n",
            "Iteration 600, loss = 0.1803\n",
            "Checking accuracy on validation set\n",
            "Got 9308 / 10000 correct (93.08)\n",
            "\n",
            "Iteration 800, loss = 0.4101\n",
            "Checking accuracy on validation set\n",
            "Got 9359 / 10000 correct (93.59)\n",
            "\n",
            "Iteration 1000, loss = 0.1710\n",
            "Checking accuracy on validation set\n",
            "Got 9379 / 10000 correct (93.79)\n",
            "\n",
            "Iteration 1200, loss = 0.3618\n",
            "Checking accuracy on validation set\n",
            "Got 9361 / 10000 correct (93.61)\n",
            "\n",
            "Iteration 1400, loss = 0.3695\n",
            "Checking accuracy on validation set\n",
            "Got 9412 / 10000 correct (94.12)\n",
            "\n",
            "Checking accuracy on validation set\n",
            "Got 9425 / 10000 correct (94.25)\n",
            "--------------------------------------------------------------------------------------------------------------------------------\n",
            "Iteration 0, loss = 0.0528\n",
            "Checking accuracy on validation set\n",
            "Got 9427 / 10000 correct (94.27)\n",
            "\n",
            "Iteration 200, loss = 0.0377\n",
            "Checking accuracy on validation set\n",
            "Got 9398 / 10000 correct (93.98)\n",
            "\n",
            "Iteration 400, loss = 0.1537\n",
            "Checking accuracy on validation set\n",
            "Got 9400 / 10000 correct (94.00)\n",
            "\n",
            "Iteration 600, loss = 0.1447\n",
            "Checking accuracy on validation set\n",
            "Got 9420 / 10000 correct (94.20)\n",
            "\n",
            "Iteration 800, loss = 0.0573\n",
            "Checking accuracy on validation set\n",
            "Got 9435 / 10000 correct (94.35)\n",
            "\n",
            "Iteration 1000, loss = 0.3653\n",
            "Checking accuracy on validation set\n",
            "Got 9442 / 10000 correct (94.42)\n",
            "\n",
            "Iteration 1200, loss = 0.1199\n",
            "Checking accuracy on validation set\n",
            "Got 9470 / 10000 correct (94.70)\n",
            "\n",
            "Iteration 1400, loss = 0.1781\n",
            "Checking accuracy on validation set\n",
            "Got 9466 / 10000 correct (94.66)\n",
            "\n",
            "Checking accuracy on validation set\n",
            "Got 9437 / 10000 correct (94.37)\n",
            "--------------------------------------------------------------------------------------------------------------------------------\n",
            "Iteration 0, loss = 0.0494\n",
            "Checking accuracy on validation set\n",
            "Got 9433 / 10000 correct (94.33)\n",
            "\n",
            "Iteration 200, loss = 0.0512\n",
            "Checking accuracy on validation set\n",
            "Got 9482 / 10000 correct (94.82)\n",
            "\n",
            "Iteration 400, loss = 0.1294\n",
            "Checking accuracy on validation set\n",
            "Got 9492 / 10000 correct (94.92)\n",
            "\n",
            "Iteration 600, loss = 0.1040\n",
            "Checking accuracy on validation set\n",
            "Got 9479 / 10000 correct (94.79)\n",
            "\n",
            "Iteration 800, loss = 0.1027\n",
            "Checking accuracy on validation set\n",
            "Got 9508 / 10000 correct (95.08)\n",
            "\n",
            "Iteration 1000, loss = 0.3102\n",
            "Checking accuracy on validation set\n",
            "Got 9504 / 10000 correct (95.04)\n",
            "\n",
            "Iteration 1200, loss = 0.1197\n",
            "Checking accuracy on validation set\n",
            "Got 9479 / 10000 correct (94.79)\n",
            "\n",
            "Iteration 1400, loss = 0.2252\n",
            "Checking accuracy on validation set\n",
            "Got 9499 / 10000 correct (94.99)\n",
            "\n",
            "Checking accuracy on validation set\n",
            "Got 9518 / 10000 correct (95.18)\n",
            "--------------------------------------------------------------------------------------------------------------------------------\n",
            "Iteration 0, loss = 0.1106\n",
            "Checking accuracy on validation set\n",
            "Got 9519 / 10000 correct (95.19)\n",
            "\n",
            "Iteration 200, loss = 0.0684\n",
            "Checking accuracy on validation set\n",
            "Got 9485 / 10000 correct (94.85)\n",
            "\n",
            "Iteration 400, loss = 0.0393\n",
            "Checking accuracy on validation set\n",
            "Got 9520 / 10000 correct (95.20)\n",
            "\n",
            "Iteration 600, loss = 0.2541\n",
            "Checking accuracy on validation set\n",
            "Got 9519 / 10000 correct (95.19)\n",
            "\n",
            "Iteration 800, loss = 0.0540\n",
            "Checking accuracy on validation set\n",
            "Got 9512 / 10000 correct (95.12)\n",
            "\n",
            "Iteration 1000, loss = 0.1724\n",
            "Checking accuracy on validation set\n",
            "Got 9512 / 10000 correct (95.12)\n",
            "\n",
            "Iteration 1200, loss = 0.0292\n",
            "Checking accuracy on validation set\n",
            "Got 9522 / 10000 correct (95.22)\n",
            "\n",
            "Iteration 1400, loss = 0.2493\n",
            "Checking accuracy on validation set\n",
            "Got 9523 / 10000 correct (95.23)\n",
            "\n",
            "Checking accuracy on validation set\n",
            "Got 9545 / 10000 correct (95.45)\n"
          ]
        },
        {
          "output_type": "execute_result",
          "data": {
            "text/plain": [
              "[0.9224, 0.9425, 0.9437, 0.9518, 0.9545]"
            ]
          },
          "metadata": {},
          "execution_count": 37
        }
      ],
      "source": [
        "# optimizer = optim.SGD(model.parameters(), lr = learning_rate, momentum = momentum_factor) # stochastic gradient descent (with momentum)\n",
        "optimizer = optim.Adam(model.parameters(), lr = adam_learning_rate, betas = (beta1, beta2), weight_decay = adam_weight_decay) # adam\n",
        "\n",
        "train(model, optimizer, loader_train, loader_val, epochs=5, print_every=200) # should get to 95% accuracy"
      ]
    },
    {
      "cell_type": "markdown",
      "metadata": {
        "id": "TSM3jG_lItf3"
      },
      "source": [
        "Success!"
      ]
    }
  ],
  "metadata": {
    "accelerator": "GPU",
    "colab": {
      "provenance": [],
      "authorship_tag": "ABX9TyPxERMsX67O5dXTFDeEC+Ql",
      "include_colab_link": true
    },
    "kernelspec": {
      "display_name": "Python 3",
      "name": "python3"
    },
    "language_info": {
      "name": "python"
    }
  },
  "nbformat": 4,
  "nbformat_minor": 0
}